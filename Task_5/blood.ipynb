{
 "cells": [
  {
   "cell_type": "code",
   "execution_count": 7,
   "outputs": [],
   "source": [
    "from importlib import reload\n",
    "from scipy.stats import boxcox\n",
    "from dfprepare import norm_data\n",
    "\n",
    "import RRR\n",
    "reload(RRR)\n",
    "from RRR import *\n",
    "\n",
    "import Task_3.LRR as LRR\n",
    "reload(LRR)\n",
    "from Task_3.LRR import *"
   ],
   "metadata": {
    "collapsed": false,
    "ExecuteTime": {
     "end_time": "2023-12-02T15:57:03.836622600Z",
     "start_time": "2023-12-02T15:57:03.742865200Z"
    }
   },
   "id": "6cf0ab65057335bb"
  },
  {
   "cell_type": "code",
   "execution_count": 8,
   "outputs": [
    {
     "data": {
      "text/plain": "     X1  X2   X3\n0   132  52  173\n1   143  59  184\n2   153  67  194\n3   162  73  211\n4   154  64  196\n5   168  74  220\n6   137  54  188\n7   149  61  188\n8   159  65  207\n9   128  46  167\n10  166  72  217",
      "text/html": "<div>\n<style scoped>\n    .dataframe tbody tr th:only-of-type {\n        vertical-align: middle;\n    }\n\n    .dataframe tbody tr th {\n        vertical-align: top;\n    }\n\n    .dataframe thead th {\n        text-align: right;\n    }\n</style>\n<table border=\"1\" class=\"dataframe\">\n  <thead>\n    <tr style=\"text-align: right;\">\n      <th></th>\n      <th>X1</th>\n      <th>X2</th>\n      <th>X3</th>\n    </tr>\n  </thead>\n  <tbody>\n    <tr>\n      <th>0</th>\n      <td>132</td>\n      <td>52</td>\n      <td>173</td>\n    </tr>\n    <tr>\n      <th>1</th>\n      <td>143</td>\n      <td>59</td>\n      <td>184</td>\n    </tr>\n    <tr>\n      <th>2</th>\n      <td>153</td>\n      <td>67</td>\n      <td>194</td>\n    </tr>\n    <tr>\n      <th>3</th>\n      <td>162</td>\n      <td>73</td>\n      <td>211</td>\n    </tr>\n    <tr>\n      <th>4</th>\n      <td>154</td>\n      <td>64</td>\n      <td>196</td>\n    </tr>\n    <tr>\n      <th>5</th>\n      <td>168</td>\n      <td>74</td>\n      <td>220</td>\n    </tr>\n    <tr>\n      <th>6</th>\n      <td>137</td>\n      <td>54</td>\n      <td>188</td>\n    </tr>\n    <tr>\n      <th>7</th>\n      <td>149</td>\n      <td>61</td>\n      <td>188</td>\n    </tr>\n    <tr>\n      <th>8</th>\n      <td>159</td>\n      <td>65</td>\n      <td>207</td>\n    </tr>\n    <tr>\n      <th>9</th>\n      <td>128</td>\n      <td>46</td>\n      <td>167</td>\n    </tr>\n    <tr>\n      <th>10</th>\n      <td>166</td>\n      <td>72</td>\n      <td>217</td>\n    </tr>\n  </tbody>\n</table>\n</div>"
     },
     "metadata": {},
     "output_type": "display_data"
    },
    {
     "data": {
      "text/plain": "       X1        X2        X3\n0   0.100  0.214286  0.113208\n1   0.375  0.464286  0.320755\n2   0.625  0.750000  0.509434\n3   0.850  0.964286  0.830189\n4   0.650  0.642857  0.547170\n5   1.000  1.000000  1.000000\n6   0.225  0.285714  0.396226\n7   0.525  0.535714  0.396226\n8   0.775  0.678571  0.754717\n9   0.000  0.000000  0.000000\n10  0.950  0.928571  0.943396",
      "text/html": "<div>\n<style scoped>\n    .dataframe tbody tr th:only-of-type {\n        vertical-align: middle;\n    }\n\n    .dataframe tbody tr th {\n        vertical-align: top;\n    }\n\n    .dataframe thead th {\n        text-align: right;\n    }\n</style>\n<table border=\"1\" class=\"dataframe\">\n  <thead>\n    <tr style=\"text-align: right;\">\n      <th></th>\n      <th>X1</th>\n      <th>X2</th>\n      <th>X3</th>\n    </tr>\n  </thead>\n  <tbody>\n    <tr>\n      <th>0</th>\n      <td>0.100</td>\n      <td>0.214286</td>\n      <td>0.113208</td>\n    </tr>\n    <tr>\n      <th>1</th>\n      <td>0.375</td>\n      <td>0.464286</td>\n      <td>0.320755</td>\n    </tr>\n    <tr>\n      <th>2</th>\n      <td>0.625</td>\n      <td>0.750000</td>\n      <td>0.509434</td>\n    </tr>\n    <tr>\n      <th>3</th>\n      <td>0.850</td>\n      <td>0.964286</td>\n      <td>0.830189</td>\n    </tr>\n    <tr>\n      <th>4</th>\n      <td>0.650</td>\n      <td>0.642857</td>\n      <td>0.547170</td>\n    </tr>\n    <tr>\n      <th>5</th>\n      <td>1.000</td>\n      <td>1.000000</td>\n      <td>1.000000</td>\n    </tr>\n    <tr>\n      <th>6</th>\n      <td>0.225</td>\n      <td>0.285714</td>\n      <td>0.396226</td>\n    </tr>\n    <tr>\n      <th>7</th>\n      <td>0.525</td>\n      <td>0.535714</td>\n      <td>0.396226</td>\n    </tr>\n    <tr>\n      <th>8</th>\n      <td>0.775</td>\n      <td>0.678571</td>\n      <td>0.754717</td>\n    </tr>\n    <tr>\n      <th>9</th>\n      <td>0.000</td>\n      <td>0.000000</td>\n      <td>0.000000</td>\n    </tr>\n    <tr>\n      <th>10</th>\n      <td>0.950</td>\n      <td>0.928571</td>\n      <td>0.943396</td>\n    </tr>\n  </tbody>\n</table>\n</div>"
     },
     "metadata": {},
     "output_type": "display_data"
    },
    {
     "data": {
      "text/plain": "<Axes: >"
     },
     "execution_count": 8,
     "metadata": {},
     "output_type": "execute_result"
    },
    {
     "data": {
      "text/plain": "<Figure size 640x480 with 2 Axes>",
      "image/png": "[encoded data removed]"
     },
     "metadata": {},
     "output_type": "display_data"
    }
   ],
   "source": [
    "# Read dataframe\n",
    "data = pd.read_excel('blood.xlsx')\n",
    "data.dropna(inplace=True)\n",
    "display(data)\n",
    "\n",
    "# Dependent variable\n",
    "explore_column = 'X1' \n",
    " \n",
    "# Normalization\n",
    "data = norm_data(data)\n",
    "display(data)\n",
    "\n",
    "# Correlation\n",
    "sns.heatmap(data.corr(), annot=True, cmap='RdYlGn', linewidths=0.1, vmin=0)"
   ],
   "metadata": {
    "collapsed": false,
    "ExecuteTime": {
     "end_time": "2023-12-02T15:57:04.222662Z",
     "start_time": "2023-12-02T15:57:03.774125800Z"
    }
   },
   "id": "11479e95a49343df"
  },
  {
   "cell_type": "markdown",
   "source": [
    "### Гребневая регрессия"
   ],
   "metadata": {
    "collapsed": false
   },
   "id": "e906318a4a7ce6f2"
  },
  {
   "cell_type": "code",
   "execution_count": 9,
   "outputs": [
    {
     "name": "stdout",
     "output_type": "stream",
     "text": [
      "                                      X1                                      \n",
      "==============================================================================\n",
      "Dep. Variable:                     X1   R-squared:                       0.977\n",
      "Model:                            OLS   Adj. R-squared:                  0.971\n",
      "Method:                 Least Squares   F-statistic:                     112.5\n",
      "Date:                Sat, 02 Dec 2023   Prob (F-statistic):           7.01e-07\n",
      "Time:                        18:57:04   Log-Likelihood:                 17.472\n",
      "No. Observations:                  11   AIC:                            -26.94\n",
      "Df Residuals:                       8   BIC:                            -25.35\n",
      "Df Model:                           3                                         \n",
      "Covariance Type:            nonrobust                                         \n",
      "==============================================================================\n",
      "                 coef    std err          t      P>|t|      [0.025      0.975]\n",
      "------------------------------------------------------------------------------\n",
      "Intercept     -0.0365      0.038     -0.966      0.362      -0.124       0.051\n",
      "X2             0.6030      0.174      3.470      0.008       0.202       1.004\n",
      "X3             0.4437      0.173      2.563      0.034       0.044       0.843\n",
      "==============================================================================\n",
      "Omnibus:                        0.796   Durbin-Watson:                   1.927\n",
      "Prob(Omnibus):                  0.672   Jarque-Bera (JB):                0.618\n",
      "Skew:                          -0.159   Prob(JB):                        0.734\n",
      "Kurtosis:                       1.883   Cond. No.                         18.1\n",
      "==============================================================================\n",
      "\n",
      "Law:\n",
      "X1 = (-0.036483388585922004) * Intercept + (0.6029902805278513) * X2 + \n",
      "(0.44368843624454013) * X3\n",
      "==============================================================================\n",
      "Breusch-Pagan test: \n",
      "LM statistic: 2.329287116901141      LM-Test p-value: 0.31203386404693556 \n",
      "F-statistic: 1.0745539142191813       F-Test p-value: 0.3860543775047665\n",
      "==============================================================================\n"
     ]
    },
    {
     "name": "stderr",
     "output_type": "stream",
     "text": [
      "D:\\PythonEnv\\Matt\\lib\\site-packages\\scipy\\stats\\_stats_py.py:1806: UserWarning: kurtosistest only valid for n>=20 ... continuing anyway, n=11\n",
      "  warnings.warn(\"kurtosistest only valid for n>=20 ... continuing \"\n"
     ]
    },
    {
     "data": {
      "text/plain": "  Variable        VIF  Tolerance\n0       X2  36.241532   0.027593\n1       X3  36.241532   0.027593",
      "text/html": "<div>\n<style scoped>\n    .dataframe tbody tr th:only-of-type {\n        vertical-align: middle;\n    }\n\n    .dataframe tbody tr th {\n        vertical-align: top;\n    }\n\n    .dataframe thead th {\n        text-align: right;\n    }\n</style>\n<table border=\"1\" class=\"dataframe\">\n  <thead>\n    <tr style=\"text-align: right;\">\n      <th></th>\n      <th>Variable</th>\n      <th>VIF</th>\n      <th>Tolerance</th>\n    </tr>\n  </thead>\n  <tbody>\n    <tr>\n      <th>0</th>\n      <td>X2</td>\n      <td>36.241532</td>\n      <td>0.027593</td>\n    </tr>\n    <tr>\n      <th>1</th>\n      <td>X3</td>\n      <td>36.241532</td>\n      <td>0.027593</td>\n    </tr>\n  </tbody>\n</table>\n</div>"
     },
     "metadata": {},
     "output_type": "display_data"
    },
    {
     "name": "stdout",
     "output_type": "stream",
     "text": [
      "==============================================================================\n"
     ]
    },
    {
     "ename": "AttributeError",
     "evalue": "'Index' object has no attribute 'params'",
     "output_type": "error",
     "traceback": [
      "\u001B[1;31m---------------------------------------------------------------------------\u001B[0m",
      "\u001B[1;31mAttributeError\u001B[0m                            Traceback (most recent call last)",
      "Cell \u001B[1;32mIn[9], line 2\u001B[0m\n\u001B[0;32m      1\u001B[0m ridge_research \u001B[38;5;241m=\u001B[39m RidgeRegressionResearch(data, column\u001B[38;5;241m=\u001B[39mexplore_column)\n\u001B[1;32m----> 2\u001B[0m \u001B[43mridge_research\u001B[49m\u001B[38;5;241;43m.\u001B[39;49m\u001B[43minfo\u001B[49m\u001B[43m(\u001B[49m\u001B[43m)\u001B[49m\n\u001B[0;32m      3\u001B[0m ridge_research\u001B[38;5;241m.\u001B[39mdraw_plots()\n\u001B[0;32m      4\u001B[0m ridge_new_model, selected_features_ridge \u001B[38;5;241m=\u001B[39m ridge_research\u001B[38;5;241m.\u001B[39mstepwise_selection(criteria\u001B[38;5;241m=\u001B[39m\u001B[38;5;124m'\u001B[39m\u001B[38;5;124mAIC\u001B[39m\u001B[38;5;124m'\u001B[39m)\n",
      "File \u001B[1;32mD:\\Projects\\PyCharm_Projects\\Matt\\Task_5\\RRR.py:65\u001B[0m, in \u001B[0;36mRidgeRegressionResearch.info\u001B[1;34m(self)\u001B[0m\n\u001B[0;32m     62\u001B[0m display(vif_tol_data)\n\u001B[0;32m     64\u001B[0m \u001B[38;5;28mprint\u001B[39m(sep_str)\n\u001B[1;32m---> 65\u001B[0m wald_data \u001B[38;5;241m=\u001B[39m \u001B[43mmth\u001B[49m\u001B[38;5;241;43m.\u001B[39;49m\u001B[43mwald_test\u001B[49m\u001B[43m(\u001B[49m\u001B[43m[\u001B[49m\u001B[38;5;124;43m'\u001B[39;49m\u001B[38;5;124;43mIntercept\u001B[39;49m\u001B[38;5;124;43m'\u001B[39;49m\u001B[43m]\u001B[49m\u001B[43m \u001B[49m\u001B[38;5;241;43m+\u001B[39;49m\u001B[43m \u001B[49m\u001B[38;5;28;43mself\u001B[39;49m\u001B[38;5;241;43m.\u001B[39;49m\u001B[43mx\u001B[49m\u001B[38;5;241;43m.\u001B[39;49m\u001B[43mcolumns\u001B[49m\u001B[43m)\u001B[49m  \u001B[38;5;66;03m# анализ дисперсии модели\u001B[39;00m\n\u001B[0;32m     66\u001B[0m display(wald_data)\n\u001B[0;32m     68\u001B[0m \u001B[38;5;66;03m# print(sep_str)\u001B[39;00m\n\u001B[0;32m     69\u001B[0m \u001B[38;5;66;03m# anova_data = anova_lm(self.results)  # (не совсем) анализ дисперсии модели\u001B[39;00m\n\u001B[0;32m     70\u001B[0m \u001B[38;5;66;03m# display(anova_data)\u001B[39;00m\n",
      "File \u001B[1;32mD:\\Projects\\PyCharm_Projects\\Matt\\mathstats.py:50\u001B[0m, in \u001B[0;36mwald_test\u001B[1;34m(results, use_f)\u001B[0m\n\u001B[0;32m     48\u001B[0m \u001B[38;5;28;01mdef\u001B[39;00m \u001B[38;5;21mwald_test\u001B[39m(results, use_f\u001B[38;5;241m=\u001B[39m\u001B[38;5;28;01mTrue\u001B[39;00m):\n\u001B[0;32m     49\u001B[0m     wald_data \u001B[38;5;241m=\u001B[39m []\n\u001B[1;32m---> 50\u001B[0m     params_names \u001B[38;5;241m=\u001B[39m \u001B[38;5;28mlist\u001B[39m(\u001B[43mresults\u001B[49m\u001B[38;5;241;43m.\u001B[39;49m\u001B[43mparams\u001B[49m\u001B[38;5;241m.\u001B[39mindex)\n\u001B[0;32m     51\u001B[0m     len_pn \u001B[38;5;241m=\u001B[39m \u001B[38;5;28mlen\u001B[39m(params_names)\n\u001B[0;32m     53\u001B[0m     \u001B[38;5;28;01mfor\u001B[39;00m p \u001B[38;5;129;01min\u001B[39;00m \u001B[38;5;28mrange\u001B[39m(len_pn \u001B[38;5;241m+\u001B[39m \u001B[38;5;241m1\u001B[39m):\n",
      "\u001B[1;31mAttributeError\u001B[0m: 'Index' object has no attribute 'params'"
     ]
    }
   ],
   "source": [
    "ridge_research = RidgeRegressionResearch(data, column=explore_column)\n",
    "ridge_research.info()\n",
    "ridge_research.draw_plots()\n",
    "ridge_new_model, selected_features_ridge = ridge_research.stepwise_selection(criteria='AIC')"
   ],
   "metadata": {
    "collapsed": false,
    "ExecuteTime": {
     "end_time": "2023-12-02T15:57:04.537494300Z",
     "start_time": "2023-12-02T15:57:04.222662Z"
    }
   },
   "id": "b0e910a96d21c0ab"
  },
  {
   "cell_type": "code",
   "execution_count": null,
   "outputs": [],
   "source": [
    "# Применяем преобразование Бокса-Кокса к зависимой переменной\n",
    "y_transformed, lambda_value = boxcox(data[explore_column] + 1e-6)  # + 1e-6 чтобы не было 0-значений\n",
    "\n",
    "new_data = data[selected_features_ridge]\n",
    "new_explore_column = explore_column + '_t'\n",
    "new_data[new_explore_column] = y_transformed\n",
    "\n",
    "# Проводим анализ заново\n",
    "enhanced_research = RidgeRegressionResearch(new_data, column=new_explore_column)\n",
    "enhanced_research.info()\n",
    "enhanced_research.draw_plots()"
   ],
   "metadata": {
    "collapsed": false,
    "ExecuteTime": {
     "start_time": "2023-12-02T15:57:04.459368200Z"
    }
   },
   "id": "b3b4ef4fcf5a2e05"
  },
  {
   "cell_type": "markdown",
   "source": [
    "### Линейная регрессия"
   ],
   "metadata": {
    "collapsed": false
   },
   "id": "bec07eed62a1dc10"
  },
  {
   "cell_type": "code",
   "execution_count": null,
   "outputs": [],
   "source": [
    "linear_research = LinearRegressionResearch(data, column=explore_column)\n",
    "linear_research.info()\n",
    "linear_research.draw_plots()\n",
    "linear_new_model, selected_features_linear = linear_research.stepwise_selection(criteria='AIC')"
   ],
   "metadata": {
    "collapsed": false,
    "ExecuteTime": {
     "start_time": "2023-12-02T15:57:04.459368200Z"
    }
   },
   "id": "222a47c9be72651"
  },
  {
   "cell_type": "code",
   "execution_count": null,
   "outputs": [],
   "source": [
    "# Применяем преобразование Бокса-Кокса к зависимой переменной\n",
    "y_transformed, lambda_value = boxcox(data[explore_column] + 1e-6)  # + 1e-6 чтобы не было 0-значений\n",
    "\n",
    "new_data = data[selected_features_linear]\n",
    "new_explore_column = explore_column + '_t'\n",
    "new_data[new_explore_column] = y_transformed\n",
    "\n",
    "# Проводим анализ заново\n",
    "enhanced_research = LinearRegressionResearch(new_data, column=new_explore_column)\n",
    "enhanced_research.info()\n",
    "enhanced_research.draw_plots()"
   ],
   "metadata": {
    "collapsed": false,
    "ExecuteTime": {
     "start_time": "2023-12-02T15:57:04.474991600Z"
    }
   },
   "id": "90e123f593e63a39"
  }
 ],
 "metadata": {
  "kernelspec": {
   "display_name": "Python 3",
   "language": "python",
   "name": "python3"
  },
  "language_info": {
   "codemirror_mode": {
    "name": "ipython",
    "version": 2
   },
   "file_extension": ".py",
   "mimetype": "text/x-python",
   "name": "python",
   "nbconvert_exporter": "python",
   "pygments_lexer": "ipython2",
   "version": "2.7.6"
  }
 },
 "nbformat": 4,
 "nbformat_minor": 5
}
