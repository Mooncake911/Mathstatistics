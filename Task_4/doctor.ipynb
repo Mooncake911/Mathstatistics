{
 "cells": [
  {
   "cell_type": "code",
   "execution_count": 313,
   "id": "initial_id",
   "metadata": {
    "collapsed": true,
    "ExecuteTime": {
     "end_time": "2023-11-25T12:23:58.935865100Z",
     "start_time": "2023-11-25T12:23:58.900831100Z"
    }
   },
   "outputs": [],
   "source": [
    "from IPython.display import display\n",
    "import pandas as pd\n",
    "import numpy as np\n",
    "\n",
    "import matplotlib.pyplot as plt\n",
    "import seaborn as sns\n",
    "\n",
    "%matplotlib inline\n",
    "sns.set()\n",
    "pd.options.display.expand_frame_repr = False"
   ]
  },
  {
   "cell_type": "code",
   "execution_count": 314,
   "outputs": [],
   "source": [
    "from sklearn.preprocessing import LabelEncoder, MinMaxScaler\n",
    "from scipy.stats import boxcox\n",
    "from scipy.stats import zscore"
   ],
   "metadata": {
    "collapsed": false,
    "ExecuteTime": {
     "end_time": "2023-11-25T12:23:58.982737100Z",
     "start_time": "2023-11-25T12:23:58.910834100Z"
    }
   },
   "id": "6cf0ab65057335bb"
  },
  {
   "cell_type": "code",
   "execution_count": 315,
   "outputs": [],
   "source": [
    "import statsmodels.api as sm\n",
    "import statsmodels.stats.api as sms\n",
    "from statsmodels.formula.api import logit\n",
    "from statsmodels.stats.anova import anova_lm\n",
    "from statsmodels.stats.outliers_influence import variance_inflation_factor\n",
    "from statsmodels.graphics.gofplots import ProbPlot"
   ],
   "metadata": {
    "collapsed": false,
    "ExecuteTime": {
     "end_time": "2023-11-25T12:23:58.982737100Z",
     "start_time": "2023-11-25T12:23:58.935865100Z"
    }
   },
   "id": "bc2d737640b65d19"
  },
  {
   "cell_type": "code",
   "execution_count": 316,
   "outputs": [],
   "source": [
    "def norm_data(df):\n",
    "    \"\"\" Нормализуем данные \"\"\"\n",
    "    for col in df.columns:\n",
    "        label_encoder = LabelEncoder()\n",
    "        scaler = MinMaxScaler()\n",
    "        if df[col].dtype.kind in 'O':\n",
    "            df[col] = label_encoder.fit_transform(df[col])\n",
    "        elif df[col].dtype.kind in 'iufc':\n",
    "            if df[col].min() != 0 and df[col].min() != 1:\n",
    "                df[col] = scaler.fit_transform(df[[col]])\n",
    "            else:\n",
    "                pass\n",
    "    return df"
   ],
   "metadata": {
    "collapsed": false,
    "ExecuteTime": {
     "end_time": "2023-11-25T12:23:58.982737100Z",
     "start_time": "2023-11-25T12:23:58.951486900Z"
    }
   },
   "id": "3216d64278f148fd"
  },
  {
   "cell_type": "code",
   "execution_count": 317,
   "outputs": [
    {
     "data": {
      "text/plain": "    y  x1     x2     x3  x4      x5\n0   0  14   4.30   1.00   2    3.72\n1   0  12  11.54   8.49   3   40.28\n2   0  14   5.84   2.47   3   56.00\n3   1  11  14.70   6.60   1   57.41\n4   0  21   5.10   3.48   1   83.00\n5   0  12   6.14   3.09   1   62.57\n6   1  17   5.05   1.14   3   22.16\n7   1  12  11.30   8.85   1   12.00\n8   0  14   3.30   1.20   3  110.00\n9   1  19   6.60   4.30   1    2.96\n10  1  14   7.60   3.98   3   36.86\n11  1  16   9.40   7.26   3   38.40\n12  1  17  13.00  11.00   3   43.50\n13  0  15   5.50   3.35   1    4.60\n14  1  18  14.90  12.40   1   22.10\n15  1  22  16.50  13.64   3   81.10\n16  0  19   5.40   1.87   1   49.00\n17  1  16  14.70  12.40   1   10.20\n18  1  13  11.60   8.60   3   32.40\n19  1  20  14.00  10.00   3   37.80\n20  1  15  14.00  11.00   3    0.80\n21  1  15  11.00   8.00   3   48.90\n22  1  27  13.00  10.00   2   89.00\n23  1  19   9.10   7.30   3   78.00\n24  0  14   6.30   2.30   3   48.70\n25  1  14  19.00  16.00   1    3.63\n26  1  16  15.30   9.90   3   33.98\n27  0  14   5.40   3.19   1   25.40\n28  1  20  16.30  11.30   3   14.80\n29  1  13  18.30  14.90   3   24.53\n30  1  19  13.10   9.40   1   57.41\n31  1  16  12.40   8.97   3   39.47\n32  1  13  14.50  11.50   3    1.37\n33  1  15   8.75   6.45   1   15.00\n34  0  18  14.30  12.45   1   78.20\n35  0  20  10.70   7.24   3  399.80\n36  1  20  10.20   6.51   3   28.57\n37  1  15   9.11   6.33   1   76.00\n38  1  17   6.18   4.20   3   48.60\n39  1  15  13.50   9.80   3    9.55\n40  0  16  13.00  10.00   3   22.20\n41  0  19   5.89   3.72   3   49.00\n42  0  14   3.86   2.48   3   91.40\n43  0  14   7.00   2.80   3   46.00\n44  1  15  14.10  12.10   1   54.30\n45  1  19  13.00  10.00   3   48.60\n46  1  19  12.90   4.00   3   68.50\n47  1  21  10.20   6.21   3   39.60\n48  0  11   7.90   4.60   1   40.75\n49  1  17  12.80   9.40   1   28.00\n50  1  19  13.70   9.69   3   25.80\n51  0  16   7.80   4.60   3   49.60\n52  1  19   8.40   5.40   3    8.20\n53  0  12   5.96   3.62   3   24.21\n54  0  13  10.00   7.07   3   12.40\n55  0  13   8.20   5.57   3   34.20\n56  1  18  11.30   6.48   3    6.30\n57  1  21   6.10   4.60   3   41.00",
      "text/html": "<div>\n<style scoped>\n    .dataframe tbody tr th:only-of-type {\n        vertical-align: middle;\n    }\n\n    .dataframe tbody tr th {\n        vertical-align: top;\n    }\n\n    .dataframe thead th {\n        text-align: right;\n    }\n</style>\n<table border=\"1\" class=\"dataframe\">\n  <thead>\n    <tr style=\"text-align: right;\">\n      <th></th>\n      <th>y</th>\n      <th>x1</th>\n      <th>x2</th>\n      <th>x3</th>\n      <th>x4</th>\n      <th>x5</th>\n    </tr>\n  </thead>\n  <tbody>\n    <tr>\n      <th>0</th>\n      <td>0</td>\n      <td>14</td>\n      <td>4.30</td>\n      <td>1.00</td>\n      <td>2</td>\n      <td>3.72</td>\n    </tr>\n    <tr>\n      <th>1</th>\n      <td>0</td>\n      <td>12</td>\n      <td>11.54</td>\n      <td>8.49</td>\n      <td>3</td>\n      <td>40.28</td>\n    </tr>\n    <tr>\n      <th>2</th>\n      <td>0</td>\n      <td>14</td>\n      <td>5.84</td>\n      <td>2.47</td>\n      <td>3</td>\n      <td>56.00</td>\n    </tr>\n    <tr>\n      <th>3</th>\n      <td>1</td>\n      <td>11</td>\n      <td>14.70</td>\n      <td>6.60</td>\n      <td>1</td>\n      <td>57.41</td>\n    </tr>\n    <tr>\n      <th>4</th>\n      <td>0</td>\n      <td>21</td>\n      <td>5.10</td>\n      <td>3.48</td>\n      <td>1</td>\n      <td>83.00</td>\n    </tr>\n    <tr>\n      <th>5</th>\n      <td>0</td>\n      <td>12</td>\n      <td>6.14</td>\n      <td>3.09</td>\n      <td>1</td>\n      <td>62.57</td>\n    </tr>\n    <tr>\n      <th>6</th>\n      <td>1</td>\n      <td>17</td>\n      <td>5.05</td>\n      <td>1.14</td>\n      <td>3</td>\n      <td>22.16</td>\n    </tr>\n    <tr>\n      <th>7</th>\n      <td>1</td>\n      <td>12</td>\n      <td>11.30</td>\n      <td>8.85</td>\n      <td>1</td>\n      <td>12.00</td>\n    </tr>\n    <tr>\n      <th>8</th>\n      <td>0</td>\n      <td>14</td>\n      <td>3.30</td>\n      <td>1.20</td>\n      <td>3</td>\n      <td>110.00</td>\n    </tr>\n    <tr>\n      <th>9</th>\n      <td>1</td>\n      <td>19</td>\n      <td>6.60</td>\n      <td>4.30</td>\n      <td>1</td>\n      <td>2.96</td>\n    </tr>\n    <tr>\n      <th>10</th>\n      <td>1</td>\n      <td>14</td>\n      <td>7.60</td>\n      <td>3.98</td>\n      <td>3</td>\n      <td>36.86</td>\n    </tr>\n    <tr>\n      <th>11</th>\n      <td>1</td>\n      <td>16</td>\n      <td>9.40</td>\n      <td>7.26</td>\n      <td>3</td>\n      <td>38.40</td>\n    </tr>\n    <tr>\n      <th>12</th>\n      <td>1</td>\n      <td>17</td>\n      <td>13.00</td>\n      <td>11.00</td>\n      <td>3</td>\n      <td>43.50</td>\n    </tr>\n    <tr>\n      <th>13</th>\n      <td>0</td>\n      <td>15</td>\n      <td>5.50</td>\n      <td>3.35</td>\n      <td>1</td>\n      <td>4.60</td>\n    </tr>\n    <tr>\n      <th>14</th>\n      <td>1</td>\n      <td>18</td>\n      <td>14.90</td>\n      <td>12.40</td>\n      <td>1</td>\n      <td>22.10</td>\n    </tr>\n    <tr>\n      <th>15</th>\n      <td>1</td>\n      <td>22</td>\n      <td>16.50</td>\n      <td>13.64</td>\n      <td>3</td>\n      <td>81.10</td>\n    </tr>\n    <tr>\n      <th>16</th>\n      <td>0</td>\n      <td>19</td>\n      <td>5.40</td>\n      <td>1.87</td>\n      <td>1</td>\n      <td>49.00</td>\n    </tr>\n    <tr>\n      <th>17</th>\n      <td>1</td>\n      <td>16</td>\n      <td>14.70</td>\n      <td>12.40</td>\n      <td>1</td>\n      <td>10.20</td>\n    </tr>\n    <tr>\n      <th>18</th>\n      <td>1</td>\n      <td>13</td>\n      <td>11.60</td>\n      <td>8.60</td>\n      <td>3</td>\n      <td>32.40</td>\n    </tr>\n    <tr>\n      <th>19</th>\n      <td>1</td>\n      <td>20</td>\n      <td>14.00</td>\n      <td>10.00</td>\n      <td>3</td>\n      <td>37.80</td>\n    </tr>\n    <tr>\n      <th>20</th>\n      <td>1</td>\n      <td>15</td>\n      <td>14.00</td>\n      <td>11.00</td>\n      <td>3</td>\n      <td>0.80</td>\n    </tr>\n    <tr>\n      <th>21</th>\n      <td>1</td>\n      <td>15</td>\n      <td>11.00</td>\n      <td>8.00</td>\n      <td>3</td>\n      <td>48.90</td>\n    </tr>\n    <tr>\n      <th>22</th>\n      <td>1</td>\n      <td>27</td>\n      <td>13.00</td>\n      <td>10.00</td>\n      <td>2</td>\n      <td>89.00</td>\n    </tr>\n    <tr>\n      <th>23</th>\n      <td>1</td>\n      <td>19</td>\n      <td>9.10</td>\n      <td>7.30</td>\n      <td>3</td>\n      <td>78.00</td>\n    </tr>\n    <tr>\n      <th>24</th>\n      <td>0</td>\n      <td>14</td>\n      <td>6.30</td>\n      <td>2.30</td>\n      <td>3</td>\n      <td>48.70</td>\n    </tr>\n    <tr>\n      <th>25</th>\n      <td>1</td>\n      <td>14</td>\n      <td>19.00</td>\n      <td>16.00</td>\n      <td>1</td>\n      <td>3.63</td>\n    </tr>\n    <tr>\n      <th>26</th>\n      <td>1</td>\n      <td>16</td>\n      <td>15.30</td>\n      <td>9.90</td>\n      <td>3</td>\n      <td>33.98</td>\n    </tr>\n    <tr>\n      <th>27</th>\n      <td>0</td>\n      <td>14</td>\n      <td>5.40</td>\n      <td>3.19</td>\n      <td>1</td>\n      <td>25.40</td>\n    </tr>\n    <tr>\n      <th>28</th>\n      <td>1</td>\n      <td>20</td>\n      <td>16.30</td>\n      <td>11.30</td>\n      <td>3</td>\n      <td>14.80</td>\n    </tr>\n    <tr>\n      <th>29</th>\n      <td>1</td>\n      <td>13</td>\n      <td>18.30</td>\n      <td>14.90</td>\n      <td>3</td>\n      <td>24.53</td>\n    </tr>\n    <tr>\n      <th>30</th>\n      <td>1</td>\n      <td>19</td>\n      <td>13.10</td>\n      <td>9.40</td>\n      <td>1</td>\n      <td>57.41</td>\n    </tr>\n    <tr>\n      <th>31</th>\n      <td>1</td>\n      <td>16</td>\n      <td>12.40</td>\n      <td>8.97</td>\n      <td>3</td>\n      <td>39.47</td>\n    </tr>\n    <tr>\n      <th>32</th>\n      <td>1</td>\n      <td>13</td>\n      <td>14.50</td>\n      <td>11.50</td>\n      <td>3</td>\n      <td>1.37</td>\n    </tr>\n    <tr>\n      <th>33</th>\n      <td>1</td>\n      <td>15</td>\n      <td>8.75</td>\n      <td>6.45</td>\n      <td>1</td>\n      <td>15.00</td>\n    </tr>\n    <tr>\n      <th>34</th>\n      <td>0</td>\n      <td>18</td>\n      <td>14.30</td>\n      <td>12.45</td>\n      <td>1</td>\n      <td>78.20</td>\n    </tr>\n    <tr>\n      <th>35</th>\n      <td>0</td>\n      <td>20</td>\n      <td>10.70</td>\n      <td>7.24</td>\n      <td>3</td>\n      <td>399.80</td>\n    </tr>\n    <tr>\n      <th>36</th>\n      <td>1</td>\n      <td>20</td>\n      <td>10.20</td>\n      <td>6.51</td>\n      <td>3</td>\n      <td>28.57</td>\n    </tr>\n    <tr>\n      <th>37</th>\n      <td>1</td>\n      <td>15</td>\n      <td>9.11</td>\n      <td>6.33</td>\n      <td>1</td>\n      <td>76.00</td>\n    </tr>\n    <tr>\n      <th>38</th>\n      <td>1</td>\n      <td>17</td>\n      <td>6.18</td>\n      <td>4.20</td>\n      <td>3</td>\n      <td>48.60</td>\n    </tr>\n    <tr>\n      <th>39</th>\n      <td>1</td>\n      <td>15</td>\n      <td>13.50</td>\n      <td>9.80</td>\n      <td>3</td>\n      <td>9.55</td>\n    </tr>\n    <tr>\n      <th>40</th>\n      <td>0</td>\n      <td>16</td>\n      <td>13.00</td>\n      <td>10.00</td>\n      <td>3</td>\n      <td>22.20</td>\n    </tr>\n    <tr>\n      <th>41</th>\n      <td>0</td>\n      <td>19</td>\n      <td>5.89</td>\n      <td>3.72</td>\n      <td>3</td>\n      <td>49.00</td>\n    </tr>\n    <tr>\n      <th>42</th>\n      <td>0</td>\n      <td>14</td>\n      <td>3.86</td>\n      <td>2.48</td>\n      <td>3</td>\n      <td>91.40</td>\n    </tr>\n    <tr>\n      <th>43</th>\n      <td>0</td>\n      <td>14</td>\n      <td>7.00</td>\n      <td>2.80</td>\n      <td>3</td>\n      <td>46.00</td>\n    </tr>\n    <tr>\n      <th>44</th>\n      <td>1</td>\n      <td>15</td>\n      <td>14.10</td>\n      <td>12.10</td>\n      <td>1</td>\n      <td>54.30</td>\n    </tr>\n    <tr>\n      <th>45</th>\n      <td>1</td>\n      <td>19</td>\n      <td>13.00</td>\n      <td>10.00</td>\n      <td>3</td>\n      <td>48.60</td>\n    </tr>\n    <tr>\n      <th>46</th>\n      <td>1</td>\n      <td>19</td>\n      <td>12.90</td>\n      <td>4.00</td>\n      <td>3</td>\n      <td>68.50</td>\n    </tr>\n    <tr>\n      <th>47</th>\n      <td>1</td>\n      <td>21</td>\n      <td>10.20</td>\n      <td>6.21</td>\n      <td>3</td>\n      <td>39.60</td>\n    </tr>\n    <tr>\n      <th>48</th>\n      <td>0</td>\n      <td>11</td>\n      <td>7.90</td>\n      <td>4.60</td>\n      <td>1</td>\n      <td>40.75</td>\n    </tr>\n    <tr>\n      <th>49</th>\n      <td>1</td>\n      <td>17</td>\n      <td>12.80</td>\n      <td>9.40</td>\n      <td>1</td>\n      <td>28.00</td>\n    </tr>\n    <tr>\n      <th>50</th>\n      <td>1</td>\n      <td>19</td>\n      <td>13.70</td>\n      <td>9.69</td>\n      <td>3</td>\n      <td>25.80</td>\n    </tr>\n    <tr>\n      <th>51</th>\n      <td>0</td>\n      <td>16</td>\n      <td>7.80</td>\n      <td>4.60</td>\n      <td>3</td>\n      <td>49.60</td>\n    </tr>\n    <tr>\n      <th>52</th>\n      <td>1</td>\n      <td>19</td>\n      <td>8.40</td>\n      <td>5.40</td>\n      <td>3</td>\n      <td>8.20</td>\n    </tr>\n    <tr>\n      <th>53</th>\n      <td>0</td>\n      <td>12</td>\n      <td>5.96</td>\n      <td>3.62</td>\n      <td>3</td>\n      <td>24.21</td>\n    </tr>\n    <tr>\n      <th>54</th>\n      <td>0</td>\n      <td>13</td>\n      <td>10.00</td>\n      <td>7.07</td>\n      <td>3</td>\n      <td>12.40</td>\n    </tr>\n    <tr>\n      <th>55</th>\n      <td>0</td>\n      <td>13</td>\n      <td>8.20</td>\n      <td>5.57</td>\n      <td>3</td>\n      <td>34.20</td>\n    </tr>\n    <tr>\n      <th>56</th>\n      <td>1</td>\n      <td>18</td>\n      <td>11.30</td>\n      <td>6.48</td>\n      <td>3</td>\n      <td>6.30</td>\n    </tr>\n    <tr>\n      <th>57</th>\n      <td>1</td>\n      <td>21</td>\n      <td>6.10</td>\n      <td>4.60</td>\n      <td>3</td>\n      <td>41.00</td>\n    </tr>\n  </tbody>\n</table>\n</div>"
     },
     "metadata": {},
     "output_type": "display_data"
    },
    {
     "data": {
      "text/plain": "    y      x1        x2     x3  x4        x5\n0   0  0.1875  0.063694   1.00   2  0.007318\n1   0  0.0625  0.524841   8.49   3  0.098947\n2   0  0.1875  0.161783   2.47   3  0.138346\n3   1  0.0000  0.726115   6.60   1  0.141880\n4   0  0.6250  0.114650   3.48   1  0.206015\n5   0  0.0625  0.180892   3.09   1  0.154812\n6   1  0.3750  0.111465   1.14   3  0.053534\n7   1  0.0625  0.509554   8.85   1  0.028070\n8   0  0.1875  0.000000   1.20   3  0.273684\n9   1  0.5000  0.210191   4.30   1  0.005414\n10  1  0.1875  0.273885   3.98   3  0.090376\n11  1  0.3125  0.388535   7.26   3  0.094236\n12  1  0.3750  0.617834  11.00   3  0.107018\n13  0  0.2500  0.140127   3.35   1  0.009524\n14  1  0.4375  0.738854  12.40   1  0.053383\n15  1  0.6875  0.840764  13.64   3  0.201253\n16  0  0.5000  0.133758   1.87   1  0.120802\n17  1  0.3125  0.726115  12.40   1  0.023559\n18  1  0.1250  0.528662   8.60   3  0.079198\n19  1  0.5625  0.681529  10.00   3  0.092732\n20  1  0.2500  0.681529  11.00   3  0.000000\n21  1  0.2500  0.490446   8.00   3  0.120551\n22  1  1.0000  0.617834  10.00   2  0.221053\n23  1  0.5000  0.369427   7.30   3  0.193484\n24  0  0.1875  0.191083   2.30   3  0.120050\n25  1  0.1875  1.000000  16.00   1  0.007093\n26  1  0.3125  0.764331   9.90   3  0.083158\n27  0  0.1875  0.133758   3.19   1  0.061654\n28  1  0.5625  0.828025  11.30   3  0.035088\n29  1  0.1250  0.955414  14.90   3  0.059474\n30  1  0.5000  0.624204   9.40   1  0.141880\n31  1  0.3125  0.579618   8.97   3  0.096917\n32  1  0.1250  0.713376  11.50   3  0.001429\n33  1  0.2500  0.347134   6.45   1  0.035589\n34  0  0.4375  0.700637  12.45   1  0.193985\n35  0  0.5625  0.471338   7.24   3  1.000000\n36  1  0.5625  0.439490   6.51   3  0.069599\n37  1  0.2500  0.370064   6.33   1  0.188471\n38  1  0.3750  0.183439   4.20   3  0.119799\n39  1  0.2500  0.649682   9.80   3  0.021930\n40  0  0.3125  0.617834  10.00   3  0.053634\n41  0  0.5000  0.164968   3.72   3  0.120802\n42  0  0.1875  0.035669   2.48   3  0.227068\n43  0  0.1875  0.235669   2.80   3  0.113283\n44  1  0.2500  0.687898  12.10   1  0.134085\n45  1  0.5000  0.617834  10.00   3  0.119799\n46  1  0.5000  0.611465   4.00   3  0.169674\n47  1  0.6250  0.439490   6.21   3  0.097243\n48  0  0.0000  0.292994   4.60   1  0.100125\n49  1  0.3750  0.605096   9.40   1  0.068170\n50  1  0.5000  0.662420   9.69   3  0.062657\n51  0  0.3125  0.286624   4.60   3  0.122306\n52  1  0.5000  0.324841   5.40   3  0.018546\n53  0  0.0625  0.169427   3.62   3  0.058672\n54  0  0.1250  0.426752   7.07   3  0.029073\n55  0  0.1250  0.312102   5.57   3  0.083709\n56  1  0.4375  0.509554   6.48   3  0.013784\n57  1  0.6250  0.178344   4.60   3  0.100752",
      "text/html": "<div>\n<style scoped>\n    .dataframe tbody tr th:only-of-type {\n        vertical-align: middle;\n    }\n\n    .dataframe tbody tr th {\n        vertical-align: top;\n    }\n\n    .dataframe thead th {\n        text-align: right;\n    }\n</style>\n<table border=\"1\" class=\"dataframe\">\n  <thead>\n    <tr style=\"text-align: right;\">\n      <th></th>\n      <th>y</th>\n      <th>x1</th>\n      <th>x2</th>\n      <th>x3</th>\n      <th>x4</th>\n      <th>x5</th>\n    </tr>\n  </thead>\n  <tbody>\n    <tr>\n      <th>0</th>\n      <td>0</td>\n      <td>0.1875</td>\n      <td>0.063694</td>\n      <td>1.00</td>\n      <td>2</td>\n      <td>0.007318</td>\n    </tr>\n    <tr>\n      <th>1</th>\n      <td>0</td>\n      <td>0.0625</td>\n      <td>0.524841</td>\n      <td>8.49</td>\n      <td>3</td>\n      <td>0.098947</td>\n    </tr>\n    <tr>\n      <th>2</th>\n      <td>0</td>\n      <td>0.1875</td>\n      <td>0.161783</td>\n      <td>2.47</td>\n      <td>3</td>\n      <td>0.138346</td>\n    </tr>\n    <tr>\n      <th>3</th>\n      <td>1</td>\n      <td>0.0000</td>\n      <td>0.726115</td>\n      <td>6.60</td>\n      <td>1</td>\n      <td>0.141880</td>\n    </tr>\n    <tr>\n      <th>4</th>\n      <td>0</td>\n      <td>0.6250</td>\n      <td>0.114650</td>\n      <td>3.48</td>\n      <td>1</td>\n      <td>0.206015</td>\n    </tr>\n    <tr>\n      <th>5</th>\n      <td>0</td>\n      <td>0.0625</td>\n      <td>0.180892</td>\n      <td>3.09</td>\n      <td>1</td>\n      <td>0.154812</td>\n    </tr>\n    <tr>\n      <th>6</th>\n      <td>1</td>\n      <td>0.3750</td>\n      <td>0.111465</td>\n      <td>1.14</td>\n      <td>3</td>\n      <td>0.053534</td>\n    </tr>\n    <tr>\n      <th>7</th>\n      <td>1</td>\n      <td>0.0625</td>\n      <td>0.509554</td>\n      <td>8.85</td>\n      <td>1</td>\n      <td>0.028070</td>\n    </tr>\n    <tr>\n      <th>8</th>\n      <td>0</td>\n      <td>0.1875</td>\n      <td>0.000000</td>\n      <td>1.20</td>\n      <td>3</td>\n      <td>0.273684</td>\n    </tr>\n    <tr>\n      <th>9</th>\n      <td>1</td>\n      <td>0.5000</td>\n      <td>0.210191</td>\n      <td>4.30</td>\n      <td>1</td>\n      <td>0.005414</td>\n    </tr>\n    <tr>\n      <th>10</th>\n      <td>1</td>\n      <td>0.1875</td>\n      <td>0.273885</td>\n      <td>3.98</td>\n      <td>3</td>\n      <td>0.090376</td>\n    </tr>\n    <tr>\n      <th>11</th>\n      <td>1</td>\n      <td>0.3125</td>\n      <td>0.388535</td>\n      <td>7.26</td>\n      <td>3</td>\n      <td>0.094236</td>\n    </tr>\n    <tr>\n      <th>12</th>\n      <td>1</td>\n      <td>0.3750</td>\n      <td>0.617834</td>\n      <td>11.00</td>\n      <td>3</td>\n      <td>0.107018</td>\n    </tr>\n    <tr>\n      <th>13</th>\n      <td>0</td>\n      <td>0.2500</td>\n      <td>0.140127</td>\n      <td>3.35</td>\n      <td>1</td>\n      <td>0.009524</td>\n    </tr>\n    <tr>\n      <th>14</th>\n      <td>1</td>\n      <td>0.4375</td>\n      <td>0.738854</td>\n      <td>12.40</td>\n      <td>1</td>\n      <td>0.053383</td>\n    </tr>\n    <tr>\n      <th>15</th>\n      <td>1</td>\n      <td>0.6875</td>\n      <td>0.840764</td>\n      <td>13.64</td>\n      <td>3</td>\n      <td>0.201253</td>\n    </tr>\n    <tr>\n      <th>16</th>\n      <td>0</td>\n      <td>0.5000</td>\n      <td>0.133758</td>\n      <td>1.87</td>\n      <td>1</td>\n      <td>0.120802</td>\n    </tr>\n    <tr>\n      <th>17</th>\n      <td>1</td>\n      <td>0.3125</td>\n      <td>0.726115</td>\n      <td>12.40</td>\n      <td>1</td>\n      <td>0.023559</td>\n    </tr>\n    <tr>\n      <th>18</th>\n      <td>1</td>\n      <td>0.1250</td>\n      <td>0.528662</td>\n      <td>8.60</td>\n      <td>3</td>\n      <td>0.079198</td>\n    </tr>\n    <tr>\n      <th>19</th>\n      <td>1</td>\n      <td>0.5625</td>\n      <td>0.681529</td>\n      <td>10.00</td>\n      <td>3</td>\n      <td>0.092732</td>\n    </tr>\n    <tr>\n      <th>20</th>\n      <td>1</td>\n      <td>0.2500</td>\n      <td>0.681529</td>\n      <td>11.00</td>\n      <td>3</td>\n      <td>0.000000</td>\n    </tr>\n    <tr>\n      <th>21</th>\n      <td>1</td>\n      <td>0.2500</td>\n      <td>0.490446</td>\n      <td>8.00</td>\n      <td>3</td>\n      <td>0.120551</td>\n    </tr>\n    <tr>\n      <th>22</th>\n      <td>1</td>\n      <td>1.0000</td>\n      <td>0.617834</td>\n      <td>10.00</td>\n      <td>2</td>\n      <td>0.221053</td>\n    </tr>\n    <tr>\n      <th>23</th>\n      <td>1</td>\n      <td>0.5000</td>\n      <td>0.369427</td>\n      <td>7.30</td>\n      <td>3</td>\n      <td>0.193484</td>\n    </tr>\n    <tr>\n      <th>24</th>\n      <td>0</td>\n      <td>0.1875</td>\n      <td>0.191083</td>\n      <td>2.30</td>\n      <td>3</td>\n      <td>0.120050</td>\n    </tr>\n    <tr>\n      <th>25</th>\n      <td>1</td>\n      <td>0.1875</td>\n      <td>1.000000</td>\n      <td>16.00</td>\n      <td>1</td>\n      <td>0.007093</td>\n    </tr>\n    <tr>\n      <th>26</th>\n      <td>1</td>\n      <td>0.3125</td>\n      <td>0.764331</td>\n      <td>9.90</td>\n      <td>3</td>\n      <td>0.083158</td>\n    </tr>\n    <tr>\n      <th>27</th>\n      <td>0</td>\n      <td>0.1875</td>\n      <td>0.133758</td>\n      <td>3.19</td>\n      <td>1</td>\n      <td>0.061654</td>\n    </tr>\n    <tr>\n      <th>28</th>\n      <td>1</td>\n      <td>0.5625</td>\n      <td>0.828025</td>\n      <td>11.30</td>\n      <td>3</td>\n      <td>0.035088</td>\n    </tr>\n    <tr>\n      <th>29</th>\n      <td>1</td>\n      <td>0.1250</td>\n      <td>0.955414</td>\n      <td>14.90</td>\n      <td>3</td>\n      <td>0.059474</td>\n    </tr>\n    <tr>\n      <th>30</th>\n      <td>1</td>\n      <td>0.5000</td>\n      <td>0.624204</td>\n      <td>9.40</td>\n      <td>1</td>\n      <td>0.141880</td>\n    </tr>\n    <tr>\n      <th>31</th>\n      <td>1</td>\n      <td>0.3125</td>\n      <td>0.579618</td>\n      <td>8.97</td>\n      <td>3</td>\n      <td>0.096917</td>\n    </tr>\n    <tr>\n      <th>32</th>\n      <td>1</td>\n      <td>0.1250</td>\n      <td>0.713376</td>\n      <td>11.50</td>\n      <td>3</td>\n      <td>0.001429</td>\n    </tr>\n    <tr>\n      <th>33</th>\n      <td>1</td>\n      <td>0.2500</td>\n      <td>0.347134</td>\n      <td>6.45</td>\n      <td>1</td>\n      <td>0.035589</td>\n    </tr>\n    <tr>\n      <th>34</th>\n      <td>0</td>\n      <td>0.4375</td>\n      <td>0.700637</td>\n      <td>12.45</td>\n      <td>1</td>\n      <td>0.193985</td>\n    </tr>\n    <tr>\n      <th>35</th>\n      <td>0</td>\n      <td>0.5625</td>\n      <td>0.471338</td>\n      <td>7.24</td>\n      <td>3</td>\n      <td>1.000000</td>\n    </tr>\n    <tr>\n      <th>36</th>\n      <td>1</td>\n      <td>0.5625</td>\n      <td>0.439490</td>\n      <td>6.51</td>\n      <td>3</td>\n      <td>0.069599</td>\n    </tr>\n    <tr>\n      <th>37</th>\n      <td>1</td>\n      <td>0.2500</td>\n      <td>0.370064</td>\n      <td>6.33</td>\n      <td>1</td>\n      <td>0.188471</td>\n    </tr>\n    <tr>\n      <th>38</th>\n      <td>1</td>\n      <td>0.3750</td>\n      <td>0.183439</td>\n      <td>4.20</td>\n      <td>3</td>\n      <td>0.119799</td>\n    </tr>\n    <tr>\n      <th>39</th>\n      <td>1</td>\n      <td>0.2500</td>\n      <td>0.649682</td>\n      <td>9.80</td>\n      <td>3</td>\n      <td>0.021930</td>\n    </tr>\n    <tr>\n      <th>40</th>\n      <td>0</td>\n      <td>0.3125</td>\n      <td>0.617834</td>\n      <td>10.00</td>\n      <td>3</td>\n      <td>0.053634</td>\n    </tr>\n    <tr>\n      <th>41</th>\n      <td>0</td>\n      <td>0.5000</td>\n      <td>0.164968</td>\n      <td>3.72</td>\n      <td>3</td>\n      <td>0.120802</td>\n    </tr>\n    <tr>\n      <th>42</th>\n      <td>0</td>\n      <td>0.1875</td>\n      <td>0.035669</td>\n      <td>2.48</td>\n      <td>3</td>\n      <td>0.227068</td>\n    </tr>\n    <tr>\n      <th>43</th>\n      <td>0</td>\n      <td>0.1875</td>\n      <td>0.235669</td>\n      <td>2.80</td>\n      <td>3</td>\n      <td>0.113283</td>\n    </tr>\n    <tr>\n      <th>44</th>\n      <td>1</td>\n      <td>0.2500</td>\n      <td>0.687898</td>\n      <td>12.10</td>\n      <td>1</td>\n      <td>0.134085</td>\n    </tr>\n    <tr>\n      <th>45</th>\n      <td>1</td>\n      <td>0.5000</td>\n      <td>0.617834</td>\n      <td>10.00</td>\n      <td>3</td>\n      <td>0.119799</td>\n    </tr>\n    <tr>\n      <th>46</th>\n      <td>1</td>\n      <td>0.5000</td>\n      <td>0.611465</td>\n      <td>4.00</td>\n      <td>3</td>\n      <td>0.169674</td>\n    </tr>\n    <tr>\n      <th>47</th>\n      <td>1</td>\n      <td>0.6250</td>\n      <td>0.439490</td>\n      <td>6.21</td>\n      <td>3</td>\n      <td>0.097243</td>\n    </tr>\n    <tr>\n      <th>48</th>\n      <td>0</td>\n      <td>0.0000</td>\n      <td>0.292994</td>\n      <td>4.60</td>\n      <td>1</td>\n      <td>0.100125</td>\n    </tr>\n    <tr>\n      <th>49</th>\n      <td>1</td>\n      <td>0.3750</td>\n      <td>0.605096</td>\n      <td>9.40</td>\n      <td>1</td>\n      <td>0.068170</td>\n    </tr>\n    <tr>\n      <th>50</th>\n      <td>1</td>\n      <td>0.5000</td>\n      <td>0.662420</td>\n      <td>9.69</td>\n      <td>3</td>\n      <td>0.062657</td>\n    </tr>\n    <tr>\n      <th>51</th>\n      <td>0</td>\n      <td>0.3125</td>\n      <td>0.286624</td>\n      <td>4.60</td>\n      <td>3</td>\n      <td>0.122306</td>\n    </tr>\n    <tr>\n      <th>52</th>\n      <td>1</td>\n      <td>0.5000</td>\n      <td>0.324841</td>\n      <td>5.40</td>\n      <td>3</td>\n      <td>0.018546</td>\n    </tr>\n    <tr>\n      <th>53</th>\n      <td>0</td>\n      <td>0.0625</td>\n      <td>0.169427</td>\n      <td>3.62</td>\n      <td>3</td>\n      <td>0.058672</td>\n    </tr>\n    <tr>\n      <th>54</th>\n      <td>0</td>\n      <td>0.1250</td>\n      <td>0.426752</td>\n      <td>7.07</td>\n      <td>3</td>\n      <td>0.029073</td>\n    </tr>\n    <tr>\n      <th>55</th>\n      <td>0</td>\n      <td>0.1250</td>\n      <td>0.312102</td>\n      <td>5.57</td>\n      <td>3</td>\n      <td>0.083709</td>\n    </tr>\n    <tr>\n      <th>56</th>\n      <td>1</td>\n      <td>0.4375</td>\n      <td>0.509554</td>\n      <td>6.48</td>\n      <td>3</td>\n      <td>0.013784</td>\n    </tr>\n    <tr>\n      <th>57</th>\n      <td>1</td>\n      <td>0.6250</td>\n      <td>0.178344</td>\n      <td>4.60</td>\n      <td>3</td>\n      <td>0.100752</td>\n    </tr>\n  </tbody>\n</table>\n</div>"
     },
     "metadata": {},
     "output_type": "display_data"
    },
    {
     "data": {
      "text/plain": "<Figure size 640x480 with 2 Axes>",
      "image/png": "[encoded data removed]"
     },
     "metadata": {},
     "output_type": "display_data"
    }
   ],
   "source": [
    "# Read dataframe\n",
    "data = pd.read_excel('doctor.xlsx')\n",
    "data.dropna(inplace=True)\n",
    "display(data)\n",
    "\n",
    "# Normalization\n",
    "data = norm_data(data)\n",
    "display(data)\n",
    "\n",
    "# Correlation\n",
    "sns.heatmap(data.corr(), annot=True, cmap='RdYlGn', linewidths=0.1, vmin=0)\n",
    "\n",
    "# Dependent variable\n",
    "explore_column = 'y' \n",
    "\n",
    "# Categorical variables \n",
    "categorical_columns = ['x4']\n",
    "for cc in categorical_columns:\n",
    "    data[cc] = data[cc].astype('category')"
   ],
   "metadata": {
    "collapsed": false,
    "ExecuteTime": {
     "end_time": "2023-11-25T12:23:59.291108Z",
     "start_time": "2023-11-25T12:23:58.967104900Z"
    }
   },
   "id": "11479e95a49343df"
  },
  {
   "cell_type": "markdown",
   "source": [
    "### Линейная регрессия"
   ],
   "metadata": {
    "collapsed": false
   },
   "id": "e906318a4a7ce6f2"
  },
  {
   "cell_type": "code",
   "execution_count": 318,
   "outputs": [],
   "source": [
    "class LinearRegressionResearch:\n",
    "    def __init__(self, df, column, influence_measures_filename=None):\n",
    "        self.filename = influence_measures_filename\n",
    "            \n",
    "        self.df = df\n",
    "        self.column = column\n",
    "        self.x = df.drop(columns=column)\n",
    "        self.y = df[column]\n",
    "        \n",
    "        x_columns = ''\n",
    "        for c in self.x.columns:\n",
    "            if isinstance(self.x[c].dtype, pd.api.types.CategoricalDtype):\n",
    "                x_columns += f'C({c})+'\n",
    "            else:\n",
    "                x_columns += f'{c}+'\n",
    "        \n",
    "        model_formula = f'{self.column} ~ {x_columns[:-1]}'\n",
    "        self.model = logit(model_formula, data=self.df)\n",
    "        self.results = self.model.fit()\n",
    "        \n",
    "    def info(self):\n",
    "        # Использование библиотеки statsmodels для получения summary\n",
    "        print(self.results.summary(title=self.column))\n",
    "        \n",
    "        # Вывод уравнения(закона) регрессии\n",
    "        intercept = self.results.params[0]\n",
    "        coefficients = self.results.params[1:]\n",
    "        output_str = f'Law:\\n{self.column} = '\n",
    "        for i, c in enumerate(self.results.params.index[1:]):\n",
    "            output_str += f'({coefficients[i]}) * {c} + '\n",
    "            if i % 2 != 0:\n",
    "                output_str += '\\n'\n",
    "        output_str += f'({intercept})'\n",
    "        print(output_str)\n",
    "        \n",
    "        # Проведём анализ дисперсии модели\n",
    "        print('==============================================================================')\n",
    "        anova_result = anova_lm(self.results)\n",
    "        print(anova_result)\n",
    "        \n",
    "        # Получение мер влиятельности для каждого наблюдения\n",
    "        print('==============================================================================')\n",
    "        influence = self.results.get_influence()\n",
    "        influence_measures = influence.summary_frame()\n",
    "        if self.filename is not None:\n",
    "            influence_measures.to_csv(f'{self.filename}.csv', index=False)\n",
    "        display(influence_measures)\n",
    "    \n",
    "    def draw_plots(self):\n",
    "        # Scatter plots\n",
    "        scatter_plots  = sns.pairplot(data, x_vars=self.df.columns, y_vars=self.df.columns, kind='reg')\n",
    "        scatter_plots.fig.suptitle(\"Pair-plot with Regression Lines\", y=1, fontsize=20)\n",
    "        plt.show()\n",
    "\n",
    "        # Residuals vs Fitted\n",
    "        plt.scatter(self.results.predict(self.x), self.residuals)\n",
    "        plt.axhline(y=0, color='r', linestyle='--')\n",
    "        plt.title('Residuals vs Fitted')\n",
    "        plt.xlabel('Fitted values')\n",
    "        plt.ylabel('Residuals')\n",
    "        plt.show()\n",
    "\n",
    "        # Residuals vs Fitted\n",
    "        plt.scatter(self.results.predict(self.x), np.sqrt(zscore(self.residuals)))\n",
    "        plt.title('Scale-Location')\n",
    "        plt.xlabel('Fitted values')\n",
    "        plt.ylabel('\\u221AStandardized residuals')\n",
    "        plt.show()\n",
    "\n",
    "        # Normal Q-Q plot\n",
    "        QQ = ProbPlot(zscore(self.residuals))\n",
    "        QQ.qqplot(line='45', alpha=0.5, lw=1)\n",
    "        plt.title('Normal Q-Q')\n",
    "        plt.xlabel('Theoretical Quantiles')\n",
    "        plt.ylabel('Standardized residuals')\n",
    "        plt.show()\n",
    "        \n",
    "        # График Residuals vs Leverage\n",
    "        fig, ax = plt.subplots(figsize=(12, 8))\n",
    "        sm.graphics.influence_plot(self.results, criterion=\"cooks\", size=25, plot_alpha=0.5, ax=ax)\n",
    "        plt.title('Residuals vs Leverage', fontsize=20)\n",
    "        plt.show()\n",
    "    \n",
    "    def run_tests(self):\n",
    "        print('==============================================================================')\n",
    "        # Теста Бройша-Пагана (Breusch-Pagan test) на гетероскедастичность.\n",
    "        het_test = sms.het_breuschpagan(self.residuals, self.model.exog)\n",
    "        print(f'Breusch-Pagan test: \\n'\n",
    "              f'LM statistic: {het_test[0]}      LM-Test p-value: {het_test[1]:} \\n'\n",
    "              f'F-statistic: {het_test[2]}       F-Test p-value: {het_test[3]:} \\n')\n",
    "        \n",
    "        # Проводим тест Дарбина-Уотсона (Durbin-Watson test) на автокорреляцию остатков.\n",
    "        durbin_watson_statistic = sms.durbin_watson(self.residuals)\n",
    "        print(f'Durbin-Watson test:\\n'\n",
    "              f'statistic: {durbin_watson_statistic} \\n')\n",
    "        \n",
    "        # Проводим тесты на нормальность распределения остатков. \n",
    "        jarque_bera_test = sms.jarque_bera(self.residuals)\n",
    "        print(f'Jarque-Bera test:\\n'\n",
    "              f'statistic: {jarque_bera_test[0]}      p-value: {jarque_bera_test[1]}')\n",
    "        omni_normtest_statistic, omni_normtest_p_value = sms.omni_normtest(self.residuals)\n",
    "        print(f'Omni-normtest test:\\n'\n",
    "              f'statistic: {omni_normtest_statistic}      p-value: {omni_normtest_statistic}')\n",
    "        \n",
    "        # Проверяем модель на мультиколлинеарность данных.\n",
    "        print('==============================================================================')\n",
    "        vif_tol_data = pd.DataFrame()\n",
    "        vif_tol_data[\"Variable\"] = self.x.columns\n",
    "        vif_tol_data[\"VIF\"] = [variance_inflation_factor(self.x.values, i) for i in range(self.x.shape[1])]\n",
    "        vif_tol_data[\"Tolerance\"] = 1 / vif_tol_data[\"VIF\"]\n",
    "        display(vif_tol_data)"
   ],
   "metadata": {
    "collapsed": false,
    "ExecuteTime": {
     "end_time": "2023-11-25T12:23:59.336707Z",
     "start_time": "2023-11-25T12:23:59.302129600Z"
    }
   },
   "id": "9bbd3f466ad98cf7"
  },
  {
   "cell_type": "markdown",
   "source": [
    "### Строим базовую модель"
   ],
   "metadata": {
    "collapsed": false
   },
   "id": "292c3624b3f544e6"
  },
  {
   "cell_type": "code",
   "execution_count": 319,
   "outputs": [
    {
     "name": "stdout",
     "output_type": "stream",
     "text": [
      "Optimization terminated successfully.\n",
      "         Current function value: 0.338369\n",
      "         Iterations 8\n",
      "                                      y                                       \n",
      "==============================================================================\n",
      "Dep. Variable:                      y   No. Observations:                   58\n",
      "Model:                          Logit   Df Residuals:                       51\n",
      "Method:                           MLE   Df Model:                            6\n",
      "Date:                Sat, 25 Nov 2023   Pseudo R-squ.:                  0.4831\n",
      "Time:                        15:23:59   Log-Likelihood:                -19.625\n",
      "converged:                       True   LL-Null:                       -37.967\n",
      "Covariance Type:            nonrobust   LLR p-value:                 2.030e-06\n",
      "==============================================================================\n",
      "                 coef    std err          z      P>|z|      [0.025      0.975]\n",
      "------------------------------------------------------------------------------\n",
      "Intercept     -2.9722      1.439     -2.065      0.039      -5.793      -0.151\n",
      "C(x4)[T.2]    -2.1462      4.145     -0.518      0.605     -10.269       5.977\n",
      "C(x4)[T.3]     0.2264      0.844      0.268      0.789      -1.428       1.881\n",
      "x1             7.3535      2.833      2.596      0.009       1.801      12.906\n",
      "x2            12.8467      6.853      1.875      0.061      -0.584      26.278\n",
      "x3            -0.3790      0.421     -0.900      0.368      -1.205       0.447\n",
      "x5           -13.4963      8.161     -1.654      0.098     -29.491       2.499\n",
      "==============================================================================\n",
      "Law:\n",
      "y = (-2.1461839942119227) * C(x4)[T.2] + (0.22638513254866277) * C(x4)[T.3] + \n",
      "(7.353460296994173) * x1 + (12.846723211171838) * x2 + \n",
      "(-0.37896655354907444) * x3 + (-13.496321130968186) * x5 + \n",
      "(-2.9722383698735104)\n",
      "==============================================================================\n"
     ]
    },
    {
     "ename": "AttributeError",
     "evalue": "'LogitResults' object has no attribute 'ssr'",
     "output_type": "error",
     "traceback": [
      "\u001B[1;31m---------------------------------------------------------------------------\u001B[0m",
      "\u001B[1;31mAttributeError\u001B[0m                            Traceback (most recent call last)",
      "Cell \u001B[1;32mIn[319], line 2\u001B[0m\n\u001B[0;32m      1\u001B[0m base_research \u001B[38;5;241m=\u001B[39m LinearRegressionResearch(data, column\u001B[38;5;241m=\u001B[39mexplore_column, influence_measures_filename\u001B[38;5;241m=\u001B[39m\u001B[38;5;124m'\u001B[39m\u001B[38;5;124minfluence_measures\u001B[39m\u001B[38;5;124m'\u001B[39m)\n\u001B[1;32m----> 2\u001B[0m \u001B[43mbase_research\u001B[49m\u001B[38;5;241;43m.\u001B[39;49m\u001B[43minfo\u001B[49m\u001B[43m(\u001B[49m\u001B[43m)\u001B[49m\n",
      "Cell \u001B[1;32mIn[318], line 38\u001B[0m, in \u001B[0;36mLinearRegressionResearch.info\u001B[1;34m(self)\u001B[0m\n\u001B[0;32m     36\u001B[0m \u001B[38;5;66;03m# Проведём анализ дисперсии модели\u001B[39;00m\n\u001B[0;32m     37\u001B[0m \u001B[38;5;28mprint\u001B[39m(\u001B[38;5;124m'\u001B[39m\u001B[38;5;124m==============================================================================\u001B[39m\u001B[38;5;124m'\u001B[39m)\n\u001B[1;32m---> 38\u001B[0m anova_result \u001B[38;5;241m=\u001B[39m \u001B[43manova_lm\u001B[49m\u001B[43m(\u001B[49m\u001B[38;5;28;43mself\u001B[39;49m\u001B[38;5;241;43m.\u001B[39;49m\u001B[43mresults\u001B[49m\u001B[43m)\u001B[49m\n\u001B[0;32m     39\u001B[0m \u001B[38;5;28mprint\u001B[39m(anova_result)\n\u001B[0;32m     41\u001B[0m \u001B[38;5;66;03m# Получение мер влиятельности для каждого наблюдения\u001B[39;00m\n",
      "File \u001B[1;32mD:\\PythonEnv\\Matt\\lib\\site-packages\\statsmodels\\stats\\anova.py:349\u001B[0m, in \u001B[0;36manova_lm\u001B[1;34m(*args, **kwargs)\u001B[0m\n\u001B[0;32m    347\u001B[0m \u001B[38;5;28;01mif\u001B[39;00m \u001B[38;5;28mlen\u001B[39m(args) \u001B[38;5;241m==\u001B[39m \u001B[38;5;241m1\u001B[39m:\n\u001B[0;32m    348\u001B[0m     model \u001B[38;5;241m=\u001B[39m args[\u001B[38;5;241m0\u001B[39m]\n\u001B[1;32m--> 349\u001B[0m     \u001B[38;5;28;01mreturn\u001B[39;00m anova_single(model, \u001B[38;5;241m*\u001B[39m\u001B[38;5;241m*\u001B[39mkwargs)\n\u001B[0;32m    351\u001B[0m \u001B[38;5;28;01mif\u001B[39;00m typ \u001B[38;5;129;01mnot\u001B[39;00m \u001B[38;5;129;01min\u001B[39;00m [\u001B[38;5;241m1\u001B[39m, \u001B[38;5;124m\"\u001B[39m\u001B[38;5;124mI\u001B[39m\u001B[38;5;124m\"\u001B[39m]:\n\u001B[0;32m    352\u001B[0m     \u001B[38;5;28;01mraise\u001B[39;00m \u001B[38;5;167;01mValueError\u001B[39;00m(\u001B[38;5;124m\"\u001B[39m\u001B[38;5;124mMultiple models only supported for type I. \u001B[39m\u001B[38;5;124m\"\u001B[39m\n\u001B[0;32m    353\u001B[0m                      \u001B[38;5;124m\"\u001B[39m\u001B[38;5;124mGot type \u001B[39m\u001B[38;5;132;01m%s\u001B[39;00m\u001B[38;5;124m\"\u001B[39m \u001B[38;5;241m%\u001B[39m \u001B[38;5;28mstr\u001B[39m(typ))\n",
      "File \u001B[1;32mD:\\PythonEnv\\Matt\\lib\\site-packages\\statsmodels\\stats\\anova.py:77\u001B[0m, in \u001B[0;36manova_single\u001B[1;34m(model, **kwargs)\u001B[0m\n\u001B[0;32m     74\u001B[0m table \u001B[38;5;241m=\u001B[39m DataFrame(np\u001B[38;5;241m.\u001B[39mzeros((n_rows, \u001B[38;5;241m5\u001B[39m)), columns\u001B[38;5;241m=\u001B[39mnames)\n\u001B[0;32m     76\u001B[0m \u001B[38;5;28;01mif\u001B[39;00m typ \u001B[38;5;129;01min\u001B[39;00m [\u001B[38;5;241m1\u001B[39m, \u001B[38;5;124m\"\u001B[39m\u001B[38;5;124mI\u001B[39m\u001B[38;5;124m\"\u001B[39m]:\n\u001B[1;32m---> 77\u001B[0m     \u001B[38;5;28;01mreturn\u001B[39;00m \u001B[43manova1_lm_single\u001B[49m\u001B[43m(\u001B[49m\u001B[43mmodel\u001B[49m\u001B[43m,\u001B[49m\u001B[43m \u001B[49m\u001B[43mendog\u001B[49m\u001B[43m,\u001B[49m\u001B[43m \u001B[49m\u001B[43mexog\u001B[49m\u001B[43m,\u001B[49m\u001B[43m \u001B[49m\u001B[43mnobs\u001B[49m\u001B[43m,\u001B[49m\u001B[43m \u001B[49m\u001B[43mdesign_info\u001B[49m\u001B[43m,\u001B[49m\u001B[43m \u001B[49m\u001B[43mtable\u001B[49m\u001B[43m,\u001B[49m\n\u001B[0;32m     78\u001B[0m \u001B[43m                            \u001B[49m\u001B[43mn_rows\u001B[49m\u001B[43m,\u001B[49m\u001B[43m \u001B[49m\u001B[43mtest\u001B[49m\u001B[43m,\u001B[49m\u001B[43m \u001B[49m\u001B[43mpr_test\u001B[49m\u001B[43m,\u001B[49m\u001B[43m \u001B[49m\u001B[43mrobust\u001B[49m\u001B[43m)\u001B[49m\n\u001B[0;32m     79\u001B[0m \u001B[38;5;28;01melif\u001B[39;00m typ \u001B[38;5;129;01min\u001B[39;00m [\u001B[38;5;241m2\u001B[39m, \u001B[38;5;124m\"\u001B[39m\u001B[38;5;124mII\u001B[39m\u001B[38;5;124m\"\u001B[39m]:\n\u001B[0;32m     80\u001B[0m     \u001B[38;5;28;01mreturn\u001B[39;00m anova2_lm_single(model, design_info, n_rows, test, pr_test,\n\u001B[0;32m     81\u001B[0m                             robust)\n",
      "File \u001B[1;32mD:\\PythonEnv\\Matt\\lib\\site-packages\\statsmodels\\stats\\anova.py:135\u001B[0m, in \u001B[0;36manova1_lm_single\u001B[1;34m(model, endog, exog, nobs, design_info, table, n_rows, test, pr_test, robust)\u001B[0m\n\u001B[0;32m    133\u001B[0m table\u001B[38;5;241m.\u001B[39mloc[index, [\u001B[38;5;124m'\u001B[39m\u001B[38;5;124mdf\u001B[39m\u001B[38;5;124m'\u001B[39m, \u001B[38;5;124m'\u001B[39m\u001B[38;5;124msum_sq\u001B[39m\u001B[38;5;124m'\u001B[39m]] \u001B[38;5;241m=\u001B[39m np\u001B[38;5;241m.\u001B[39mc_[arr[\u001B[38;5;241m~\u001B[39midx]\u001B[38;5;241m.\u001B[39msum(\u001B[38;5;241m1\u001B[39m), sum_sq]\n\u001B[0;32m    134\u001B[0m \u001B[38;5;66;03m# fill in residual\u001B[39;00m\n\u001B[1;32m--> 135\u001B[0m table\u001B[38;5;241m.\u001B[39mloc[\u001B[38;5;124m'\u001B[39m\u001B[38;5;124mResidual\u001B[39m\u001B[38;5;124m'\u001B[39m, [\u001B[38;5;124m'\u001B[39m\u001B[38;5;124msum_sq\u001B[39m\u001B[38;5;124m'\u001B[39m,\u001B[38;5;124m'\u001B[39m\u001B[38;5;124mdf\u001B[39m\u001B[38;5;124m'\u001B[39m]] \u001B[38;5;241m=\u001B[39m \u001B[43mmodel\u001B[49m\u001B[38;5;241;43m.\u001B[39;49m\u001B[43mssr\u001B[49m, model\u001B[38;5;241m.\u001B[39mdf_resid\n\u001B[0;32m    136\u001B[0m \u001B[38;5;28;01mif\u001B[39;00m test \u001B[38;5;241m==\u001B[39m \u001B[38;5;124m'\u001B[39m\u001B[38;5;124mF\u001B[39m\u001B[38;5;124m'\u001B[39m:\n\u001B[0;32m    137\u001B[0m     table[test] \u001B[38;5;241m=\u001B[39m ((table[\u001B[38;5;124m'\u001B[39m\u001B[38;5;124msum_sq\u001B[39m\u001B[38;5;124m'\u001B[39m] \u001B[38;5;241m/\u001B[39m table[\u001B[38;5;124m'\u001B[39m\u001B[38;5;124mdf\u001B[39m\u001B[38;5;124m'\u001B[39m]) \u001B[38;5;241m/\u001B[39m\n\u001B[0;32m    138\u001B[0m                    (model\u001B[38;5;241m.\u001B[39mssr \u001B[38;5;241m/\u001B[39m model\u001B[38;5;241m.\u001B[39mdf_resid))\n",
      "File \u001B[1;32mD:\\PythonEnv\\Matt\\lib\\site-packages\\statsmodels\\base\\wrapper.py:34\u001B[0m, in \u001B[0;36mResultsWrapper.__getattribute__\u001B[1;34m(self, attr)\u001B[0m\n\u001B[0;32m     31\u001B[0m \u001B[38;5;28;01mexcept\u001B[39;00m \u001B[38;5;167;01mAttributeError\u001B[39;00m:\n\u001B[0;32m     32\u001B[0m     \u001B[38;5;28;01mpass\u001B[39;00m\n\u001B[1;32m---> 34\u001B[0m obj \u001B[38;5;241m=\u001B[39m \u001B[38;5;28;43mgetattr\u001B[39;49m\u001B[43m(\u001B[49m\u001B[43mresults\u001B[49m\u001B[43m,\u001B[49m\u001B[43m \u001B[49m\u001B[43mattr\u001B[49m\u001B[43m)\u001B[49m\n\u001B[0;32m     35\u001B[0m data \u001B[38;5;241m=\u001B[39m results\u001B[38;5;241m.\u001B[39mmodel\u001B[38;5;241m.\u001B[39mdata\n\u001B[0;32m     36\u001B[0m how \u001B[38;5;241m=\u001B[39m \u001B[38;5;28mself\u001B[39m\u001B[38;5;241m.\u001B[39m_wrap_attrs\u001B[38;5;241m.\u001B[39mget(attr)\n",
      "\u001B[1;31mAttributeError\u001B[0m: 'LogitResults' object has no attribute 'ssr'"
     ]
    }
   ],
   "source": [
    "base_research = LinearRegressionResearch(data, column=explore_column, influence_measures_filename='influence_measures')\n",
    "base_research.info()"
   ],
   "metadata": {
    "collapsed": false,
    "ExecuteTime": {
     "end_time": "2023-11-25T12:23:59.416086800Z",
     "start_time": "2023-11-25T12:23:59.321077600Z"
    }
   },
   "id": "b0e910a96d21c0ab"
  },
  {
   "cell_type": "markdown",
   "source": [
    "### Попытаемся улучшить базовую модель при помощи (AIC/BIC) "
   ],
   "metadata": {
    "collapsed": false
   },
   "id": "1aaade3593bacd44"
  },
  {
   "cell_type": "code",
   "execution_count": null,
   "outputs": [],
   "source": [
    "def stepwise_selection(df, column, criteria: str = 'AIC'):\n",
    "    \"\"\" \n",
    "        Улучшаем модель при помощи:\n",
    "            ::AIC (Akaike Information Criterion) \n",
    "                            или\n",
    "            ::BIC (Bayesian Information Criterion) \n",
    "    \"\"\"\n",
    "    \n",
    "    # Проверка, что criteria является строкой и принимает только 'AIC' или 'BIC'\n",
    "    if not isinstance(criteria, str) or criteria not in ['AIC', 'BIC']:\n",
    "        raise ValueError(\"Параметр 'criteria' должен быть строкой ('AIC' или 'BIC').\")\n",
    "    else:\n",
    "        criteria = criteria.upper()\n",
    "    \n",
    "    \n",
    "    drop_index = None\n",
    "    output = ('                                    STEPS                                     \\n'\n",
    "              '==============================================================================\\n')\n",
    "    \n",
    "    x = df.drop(columns=column)\n",
    "    y = df[column]\n",
    "    remaining_features = list(x.columns)\n",
    "    best_model = sm.OLS(y, sm.add_constant(x[remaining_features])).fit()\n",
    "    best_criterion = best_model.aic if criteria == 'AIC' else best_model.bic\n",
    "    \n",
    "    k = True\n",
    "    while k:\n",
    "        k = False\n",
    "        output += (f'Selected Features: {remaining_features} \\n'\n",
    "                   f'{criteria}: {best_criterion} \\n')\n",
    "        \n",
    "        for index in range(len(remaining_features)):\n",
    "            features = remaining_features[:index] + remaining_features[(index+1):]\n",
    "            model = sm.OLS(y, sm.add_constant(x[features])).fit()\n",
    "            criterion = model.aic if criteria == 'AIC' else model.bic\n",
    "    \n",
    "            if criterion < best_criterion:\n",
    "                k = True\n",
    "                best_criterion = criterion\n",
    "                best_model = model\n",
    "                drop_index = index\n",
    "\n",
    "        if k:\n",
    "            remaining_features.pop(drop_index)\n",
    "    \n",
    "    print(output)\n",
    "    return best_model, remaining_features"
   ],
   "metadata": {
    "collapsed": false,
    "ExecuteTime": {
     "start_time": "2023-11-25T12:23:59.416086800Z"
    }
   },
   "id": "30ddab07e2bef22e"
  },
  {
   "cell_type": "code",
   "execution_count": null,
   "outputs": [],
   "source": [
    "# Пошаговый отбор признаков с использованием AIC\n",
    "new_model, selected_features = stepwise_selection(data, column=explore_column, criteria='AIC')"
   ],
   "metadata": {
    "collapsed": false,
    "ExecuteTime": {
     "end_time": "2023-11-25T12:23:59.424109600Z",
     "start_time": "2023-11-25T12:23:59.424109600Z"
    }
   },
   "id": "5ea08be1cbe182a0"
  },
  {
   "cell_type": "markdown",
   "source": [
    "### Проведём исследование улучшенной модели"
   ],
   "metadata": {
    "collapsed": false
   },
   "id": "2802c06b61b33605"
  },
  {
   "cell_type": "code",
   "execution_count": null,
   "outputs": [],
   "source": [
    "enhanced_research = LinearRegressionResearch(data[selected_features + [explore_column]], column=explore_column)\n",
    "enhanced_research.info()\n",
    "enhanced_research.draw_plots()\n",
    "enhanced_research.run_tests()"
   ],
   "metadata": {
    "collapsed": false,
    "ExecuteTime": {
     "start_time": "2023-11-25T12:23:59.424109600Z"
    }
   },
   "id": "5d06f458d719f94a"
  },
  {
   "cell_type": "markdown",
   "source": [
    "### Попытаемся улучшить уже улучшенную модель при помощи (Box-Cox)"
   ],
   "metadata": {
    "collapsed": false
   },
   "id": "693bb46efab34458"
  },
  {
   "cell_type": "code",
   "execution_count": null,
   "outputs": [],
   "source": [
    "# Применяем преобразование Бокса-Кокса к зависимой переменной\n",
    "y_transformed, lambda_value = boxcox(data[explore_column] + 1)  # + 1 чтобы не было 0-значений\n",
    "new_explore_column = explore_column + '_t'\n",
    "data[new_explore_column] = y_transformed\n",
    "\n",
    "# Проводим анализ заново\n",
    "enhanced_research = LinearRegressionResearch(data[selected_features + [new_explore_column]],\n",
    "                                             column=new_explore_column)\n",
    "enhanced_research.info()\n",
    "enhanced_research.draw_plots()\n",
    "enhanced_research.run_tests()"
   ],
   "metadata": {
    "collapsed": false,
    "ExecuteTime": {
     "start_time": "2023-11-25T12:23:59.424109600Z"
    }
   },
   "id": "98c2305524abad88"
  }
 ],
 "metadata": {
  "kernelspec": {
   "display_name": "Python 3",
   "language": "python",
   "name": "python3"
  },
  "language_info": {
   "codemirror_mode": {
    "name": "ipython",
    "version": 2
   },
   "file_extension": ".py",
   "mimetype": "text/x-python",
   "name": "python",
   "nbconvert_exporter": "python",
   "pygments_lexer": "ipython2",
   "version": "2.7.6"
  }
 },
 "nbformat": 4,
 "nbformat_minor": 5
}
