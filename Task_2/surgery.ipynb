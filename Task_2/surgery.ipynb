{
 "cells": [
  {
   "cell_type": "code",
   "execution_count": 1,
   "id": "initial_id",
   "metadata": {
    "collapsed": true,
    "ExecuteTime": {
     "end_time": "2023-11-25T13:56:05.535147300Z",
     "start_time": "2023-11-25T13:56:05.521884600Z"
    }
   },
   "outputs": [],
   "source": [
    "from IPython.display import display\n",
    "import pandas as pd\n",
    "from scipy.stats import binom_test"
   ]
  },
  {
   "cell_type": "code",
   "execution_count": 2,
   "outputs": [
    {
     "data": {
      "text/plain": "    V right  V left  W right  W left\n0      7.20    6.70    12.00   13.10\n1      1.20    1.20     4.50    4.20\n2      6.70    7.30    15.30   14.90\n3      9.90   10.05     9.60    9.10\n5      1.50    1.80     3.90    4.20\n..      ...     ...      ...     ...\n89     3.00    5.40     5.09    6.70\n90     0.32    0.33     0.80    0.76\n91     6.50    5.30     9.70    8.03\n92    11.70    8.30    11.70    9.30\n93    11.40   11.50    14.80   16.30\n\n[87 rows x 4 columns]",
      "text/html": "<div>\n<style scoped>\n    .dataframe tbody tr th:only-of-type {\n        vertical-align: middle;\n    }\n\n    .dataframe tbody tr th {\n        vertical-align: top;\n    }\n\n    .dataframe thead th {\n        text-align: right;\n    }\n</style>\n<table border=\"1\" class=\"dataframe\">\n  <thead>\n    <tr style=\"text-align: right;\">\n      <th></th>\n      <th>V right</th>\n      <th>V left</th>\n      <th>W right</th>\n      <th>W left</th>\n    </tr>\n  </thead>\n  <tbody>\n    <tr>\n      <th>0</th>\n      <td>7.20</td>\n      <td>6.70</td>\n      <td>12.00</td>\n      <td>13.10</td>\n    </tr>\n    <tr>\n      <th>1</th>\n      <td>1.20</td>\n      <td>1.20</td>\n      <td>4.50</td>\n      <td>4.20</td>\n    </tr>\n    <tr>\n      <th>2</th>\n      <td>6.70</td>\n      <td>7.30</td>\n      <td>15.30</td>\n      <td>14.90</td>\n    </tr>\n    <tr>\n      <th>3</th>\n      <td>9.90</td>\n      <td>10.05</td>\n      <td>9.60</td>\n      <td>9.10</td>\n    </tr>\n    <tr>\n      <th>5</th>\n      <td>1.50</td>\n      <td>1.80</td>\n      <td>3.90</td>\n      <td>4.20</td>\n    </tr>\n    <tr>\n      <th>...</th>\n      <td>...</td>\n      <td>...</td>\n      <td>...</td>\n      <td>...</td>\n    </tr>\n    <tr>\n      <th>89</th>\n      <td>3.00</td>\n      <td>5.40</td>\n      <td>5.09</td>\n      <td>6.70</td>\n    </tr>\n    <tr>\n      <th>90</th>\n      <td>0.32</td>\n      <td>0.33</td>\n      <td>0.80</td>\n      <td>0.76</td>\n    </tr>\n    <tr>\n      <th>91</th>\n      <td>6.50</td>\n      <td>5.30</td>\n      <td>9.70</td>\n      <td>8.03</td>\n    </tr>\n    <tr>\n      <th>92</th>\n      <td>11.70</td>\n      <td>8.30</td>\n      <td>11.70</td>\n      <td>9.30</td>\n    </tr>\n    <tr>\n      <th>93</th>\n      <td>11.40</td>\n      <td>11.50</td>\n      <td>14.80</td>\n      <td>16.30</td>\n    </tr>\n  </tbody>\n</table>\n<p>87 rows × 4 columns</p>\n</div>"
     },
     "metadata": {},
     "output_type": "display_data"
    },
    {
     "name": "stdout",
     "output_type": "stream",
     "text": [
      "Доля успешных случаев: 0.793\n",
      "P-значение p=0.7: 0.061\n",
      "P-значение p=0.8: 0.893\n"
     ]
    },
    {
     "name": "stderr",
     "output_type": "stream",
     "text": [
      "C:\\Users\\shaid\\AppData\\Local\\Temp\\ipykernel_3516\\1299672527.py:10: DeprecationWarning: 'binom_test' is deprecated in favour of 'binomtest' from version 1.7.0 and will be removed in Scipy 1.12.0.\n",
      "  p_value_7 = binom_test(success_count, total_count, p=0.7)   # Проверка для вероятности 0.7\n",
      "C:\\Users\\shaid\\AppData\\Local\\Temp\\ipykernel_3516\\1299672527.py:11: DeprecationWarning: 'binom_test' is deprecated in favour of 'binomtest' from version 1.7.0 and will be removed in Scipy 1.12.0.\n",
      "  p_value_8 = binom_test(success_count, total_count, p=0.8)   # Проверка для вероятности 0.8\n"
     ]
    }
   ],
   "source": [
    "data = pd.read_excel('surgery.xlsx')\n",
    "data.dropna(inplace=True)\n",
    "display(data)\n",
    "\n",
    "success_condition = (data['V right'] < data['W right']) & (data['V left'] < data['W left'])\n",
    "success_count = sum(success_condition)\n",
    "total_count = len(data)\n",
    "\n",
    "success_rate = success_count / total_count \n",
    "p_value_7 = binom_test(success_count, total_count, p=0.7)   # Проверка для вероятности 0.7\n",
    "p_value_8 = binom_test(success_count, total_count, p=0.8)   # Проверка для вероятности 0.8\n",
    "\n",
    "print(f\"Доля успешных случаев: {success_rate:.3f}\")\n",
    "print(f\"P-значение p=0.7: {p_value_7:.3f}\")\n",
    "print(f\"P-значение p=0.8: {p_value_8:.3f}\")"
   ],
   "metadata": {
    "collapsed": false,
    "ExecuteTime": {
     "end_time": "2023-11-25T13:56:06.296839100Z",
     "start_time": "2023-11-25T13:56:05.540150200Z"
    }
   },
   "id": "11479e95a49343df"
  }
 ],
 "metadata": {
  "kernelspec": {
   "display_name": "Python 3",
   "language": "python",
   "name": "python3"
  },
  "language_info": {
   "codemirror_mode": {
    "name": "ipython",
    "version": 2
   },
   "file_extension": ".py",
   "mimetype": "text/x-python",
   "name": "python",
   "nbconvert_exporter": "python",
   "pygments_lexer": "ipython2",
   "version": "2.7.6"
  }
 },
 "nbformat": 4,
 "nbformat_minor": 5
}
