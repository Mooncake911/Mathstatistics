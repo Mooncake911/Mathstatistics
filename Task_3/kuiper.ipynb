{
 "cells": [
  {
   "cell_type": "code",
   "execution_count": null,
   "id": "initial_id",
   "metadata": {
    "collapsed": true,
    "ExecuteTime": {
     "start_time": "2023-11-24T12:59:45.714611Z"
    }
   },
   "outputs": [],
   "source": [
    "from IPython.display import display\n",
    "import pandas as pd\n",
    "import numpy as np\n",
    "\n",
    "import matplotlib.pyplot as plt\n",
    "import seaborn as sns\n",
    "\n",
    "%matplotlib inline\n",
    "sns.set()\n",
    "pd.options.display.expand_frame_repr = False"
   ]
  },
  {
   "cell_type": "code",
   "execution_count": null,
   "outputs": [],
   "source": [
    "from sklearn.preprocessing import LabelEncoder, MinMaxScaler\n",
    "from scipy.stats import boxcox\n",
    "from scipy.stats import zscore"
   ],
   "metadata": {
    "collapsed": false,
    "ExecuteTime": {
     "start_time": "2023-11-24T12:59:45.714611Z"
    }
   },
   "id": "6cf0ab65057335bb"
  },
  {
   "cell_type": "code",
   "execution_count": null,
   "outputs": [],
   "source": [
    "import statsmodels.api as sm\n",
    "import statsmodels.stats.api as sms\n",
    "from statsmodels.formula.api import ols\n",
    "from statsmodels.stats.anova import anova_lm\n",
    "from statsmodels.stats.outliers_influence import variance_inflation_factor\n",
    "from statsmodels.graphics.gofplots import ProbPlot"
   ],
   "metadata": {
    "collapsed": false,
    "ExecuteTime": {
     "end_time": "2023-11-24T12:59:45.714611Z",
     "start_time": "2023-11-24T12:59:45.714611Z"
    }
   },
   "id": "bc2d737640b65d19"
  },
  {
   "cell_type": "code",
   "execution_count": null,
   "outputs": [],
   "source": [
    "def norm_data(df):\n",
    "    \"\"\" Нормализуем данные \"\"\"\n",
    "    for col in df.columns:\n",
    "        label_encoder = LabelEncoder()\n",
    "        scaler = MinMaxScaler()\n",
    "        if df[col].dtype.kind in 'O':\n",
    "            df[col] = label_encoder.fit_transform(df[col])\n",
    "        elif df[col].dtype.kind in 'iufc':\n",
    "            if df[col].min() != 0 and df[col].min() != 1:\n",
    "                df[col] = scaler.fit_transform(df[[col]])\n",
    "            else:\n",
    "                pass\n",
    "    return df"
   ],
   "metadata": {
    "collapsed": false,
    "ExecuteTime": {
     "start_time": "2023-11-24T12:59:45.714611Z"
    }
   },
   "id": "3216d64278f148fd"
  },
  {
   "cell_type": "code",
   "execution_count": null,
   "outputs": [],
   "source": [
    "# Read dataframe\n",
    "data = pd.read_excel('kuiper.xls')\n",
    "data.dropna(inplace=True)\n",
    "display(data)\n",
    "\n",
    "# Normalization\n",
    "data = norm_data(data)\n",
    "display(data)\n",
    "\n",
    "# Correlation\n",
    "sns.heatmap(data.corr(), annot=True, cmap='RdYlGn', linewidths=0.1, vmin=0)\n",
    "\n",
    "# Dependent variable\n",
    "explore_column = 'Price' "
   ],
   "metadata": {
    "collapsed": false,
    "ExecuteTime": {
     "start_time": "2023-11-24T12:59:45.714611Z"
    }
   },
   "id": "11479e95a49343df"
  },
  {
   "cell_type": "markdown",
   "source": [
    "### Линейная регрессия"
   ],
   "metadata": {
    "collapsed": false
   },
   "id": "e906318a4a7ce6f2"
  },
  {
   "cell_type": "code",
   "execution_count": null,
   "outputs": [],
   "source": [
    "class LinearRegressionResearch:\n",
    "    def __init__(self, df, column, influence_measures_filename=None):\n",
    "        self.filename = influence_measures_filename\n",
    "        \n",
    "        self.df = df\n",
    "        self.column = column\n",
    "        self.x = df.drop(columns=column)\n",
    "        self.y = df[column]\n",
    "        \n",
    "        x_columns = \"+\".join(self.x.columns)\n",
    "        model_formula = f'{self.column} ~ {x_columns}'\n",
    "        self.model = ols(model_formula, data=self.df)\n",
    "        self.results = self.model.fit()\n",
    "        self.residuals = self.results.resid\n",
    "        \n",
    "    def info(self):\n",
    "        # Использование библиотеки statsmodels для получения summary\n",
    "        print(self.results.summary(title=self.column))\n",
    "        \n",
    "        # Вывод уравнения(закона) регрессии\n",
    "        intercept = self.results.params[0]\n",
    "        coefficients = self.results.params[1:]\n",
    "        output_str = f'Law:\\n{self.column} = '\n",
    "        for i, c in enumerate(self.results.params.index[1:]):\n",
    "            output_str += f'({coefficients[i]}) * {c} + '\n",
    "            if i % 2 != 0:\n",
    "                output_str += '\\n'\n",
    "        output_str += f'({intercept})'\n",
    "        print(output_str)\n",
    "        \n",
    "        # Проведём анализ дисперсии модели\n",
    "        print('==============================================================================')\n",
    "        anova_result = anova_lm(self.results)\n",
    "        print(anova_result)\n",
    "        \n",
    "        # Получение мер влиятельности для каждого наблюдения\n",
    "        print('==============================================================================')\n",
    "        influence = self.results.get_influence()\n",
    "        influence_measures = influence.summary_frame()\n",
    "        if self.filename is not None:\n",
    "            influence_measures.to_csv(f'{self.filename}.csv', index=False)\n",
    "        display(influence_measures)\n",
    "    \n",
    "    def draw_plots(self):\n",
    "        # Scatter plots\n",
    "        scatter_plots  = sns.pairplot(data, x_vars=self.df.columns, y_vars=self.df.columns, kind='reg')\n",
    "        scatter_plots.fig.suptitle(\"Pair-plot with Regression Lines\", y=1, fontsize=20)\n",
    "        plt.show()\n",
    "\n",
    "        # Residuals vs Fitted\n",
    "        plt.scatter(self.results.predict(self.x), self.residuals)\n",
    "        plt.axhline(y=0, color='r', linestyle='--')\n",
    "        plt.title('Residuals vs Fitted')\n",
    "        plt.xlabel('Fitted values')\n",
    "        plt.ylabel('Residuals')\n",
    "        plt.show()\n",
    "\n",
    "        # Residuals vs Fitted\n",
    "        plt.scatter(self.results.predict(self.x), np.sqrt(zscore(self.residuals)))\n",
    "        plt.title('Scale-Location')\n",
    "        plt.xlabel('Fitted values')\n",
    "        plt.ylabel('\\u221AStandardized residuals')\n",
    "        plt.show()\n",
    "\n",
    "        # Normal Q-Q plot\n",
    "        QQ = ProbPlot(zscore(self.residuals))\n",
    "        QQ.qqplot(line='45', alpha=0.5, lw=1)\n",
    "        plt.title('Normal Q-Q')\n",
    "        plt.xlabel('Theoretical Quantiles')\n",
    "        plt.ylabel('Standardized residuals')\n",
    "        plt.show()\n",
    "        \n",
    "        # График Residuals vs Leverage\n",
    "        fig, ax = plt.subplots(figsize=(12, 8))\n",
    "        sm.graphics.influence_plot(self.results, criterion=\"cooks\", size=25, plot_alpha=0.5, ax=ax)\n",
    "        plt.title('Residuals vs Leverage', fontsize=20)\n",
    "        plt.show()\n",
    "    \n",
    "    def run_tests(self):\n",
    "        print('==============================================================================')\n",
    "        # Теста Бройша-Пагана (Breusch-Pagan test) на гетероскедастичность.\n",
    "        het_test = sms.het_breuschpagan(self.residuals, self.model.exog)\n",
    "        print(f'Breusch-Pagan test: \\n'\n",
    "              f'LM statistic: {het_test[0]}      LM-Test p-value: {het_test[1]:} \\n'\n",
    "              f'F-statistic: {het_test[2]}       F-Test p-value: {het_test[3]:} \\n')\n",
    "        \n",
    "        # Проводим тест Дарбина-Уотсона (Durbin-Watson test) на автокорреляцию остатков.\n",
    "        durbin_watson_statistic = sms.durbin_watson(self.residuals)\n",
    "        print(f'Durbin-Watson test:\\n'\n",
    "              f'statistic: {durbin_watson_statistic} \\n')\n",
    "        \n",
    "        # Проводим тесты на нормальность распределения остатков. \n",
    "        jarque_bera_test = sms.jarque_bera(self.residuals)\n",
    "        print(f'Jarque-Bera test:\\n'\n",
    "              f'statistic: {jarque_bera_test[0]}      p-value: {jarque_bera_test[1]}')\n",
    "        omni_normtest_statistic, omni_normtest_p_value = sms.omni_normtest(self.residuals)\n",
    "        print(f'Omni-normtest test:\\n'\n",
    "              f'statistic: {omni_normtest_statistic}      p-value: {omni_normtest_statistic}')\n",
    "        \n",
    "        # Проверяем модель на мультиколлинеарность данных.\n",
    "        print('==============================================================================')\n",
    "        vif_tol_data = pd.DataFrame()\n",
    "        vif_tol_data[\"Variable\"] = self.x.columns\n",
    "        vif_tol_data[\"VIF\"] = [variance_inflation_factor(self.x.values, i) for i in range(self.x.shape[1])]\n",
    "        vif_tol_data[\"Tolerance\"] = 1 / vif_tol_data[\"VIF\"]\n",
    "        display(vif_tol_data)"
   ],
   "metadata": {
    "collapsed": false,
    "ExecuteTime": {
     "start_time": "2023-11-24T12:59:45.729047300Z"
    }
   },
   "id": "9bbd3f466ad98cf7"
  },
  {
   "cell_type": "markdown",
   "source": [
    "### Строим базовую модель"
   ],
   "metadata": {
    "collapsed": false
   },
   "id": "292c3624b3f544e6"
  },
  {
   "cell_type": "code",
   "execution_count": null,
   "outputs": [],
   "source": [
    "base_research = LinearRegressionResearch(data, column=explore_column, influence_measures_filename='influence_measures')\n",
    "base_research.info()"
   ],
   "metadata": {
    "collapsed": false,
    "ExecuteTime": {
     "start_time": "2023-11-24T12:59:45.729047300Z"
    }
   },
   "id": "b0e910a96d21c0ab"
  },
  {
   "cell_type": "markdown",
   "source": [
    "### Попытаемся улучшить базовую модель при помощи (AIC/BIC) "
   ],
   "metadata": {
    "collapsed": false
   },
   "id": "1aaade3593bacd44"
  },
  {
   "cell_type": "code",
   "execution_count": null,
   "outputs": [],
   "source": [
    "def stepwise_selection(df, column, criteria: str = 'AIC'):\n",
    "    \"\"\" \n",
    "        Улучшаем модель при помощи:\n",
    "            ::AIC (Akaike Information Criterion) \n",
    "                            или\n",
    "            ::BIC (Bayesian Information Criterion) \n",
    "    \"\"\"\n",
    "    \n",
    "    # Проверка, что criteria является строкой и принимает только 'AIC' или 'BIC'\n",
    "    if not isinstance(criteria, str) or criteria not in ['AIC', 'BIC']:\n",
    "        raise ValueError(\"Параметр 'criteria' должен быть строкой ('AIC' или 'BIC').\")\n",
    "    else:\n",
    "        criteria = criteria.upper()\n",
    "    \n",
    "    \n",
    "    drop_index = None\n",
    "    output = ('                                    STEPS                                     \\n'\n",
    "              '==============================================================================\\n')\n",
    "    \n",
    "    x = df.drop(columns=column)\n",
    "    y = df[column]\n",
    "    remaining_features = list(x.columns)\n",
    "    best_model = sm.OLS(y, sm.add_constant(x[remaining_features])).fit()\n",
    "    best_criterion = best_model.aic if criteria == 'AIC' else best_model.bic\n",
    "    \n",
    "    k = True\n",
    "    while k:\n",
    "        k = False\n",
    "        output += (f'Selected Features: {remaining_features} \\n'\n",
    "                   f'{criteria}: {best_criterion} \\n')\n",
    "        \n",
    "        for index in range(len(remaining_features)):\n",
    "            features = remaining_features[:index] + remaining_features[(index+1):]\n",
    "            model = sm.OLS(y, sm.add_constant(x[features])).fit()\n",
    "            criterion = model.aic if criteria == 'AIC' else model.bic\n",
    "    \n",
    "            if criterion < best_criterion:\n",
    "                k = True\n",
    "                best_criterion = criterion\n",
    "                best_model = model\n",
    "                drop_index = index\n",
    "\n",
    "        if k:\n",
    "            remaining_features.pop(drop_index)\n",
    "    \n",
    "    print(output)\n",
    "    return best_model, remaining_features"
   ],
   "metadata": {
    "collapsed": false,
    "ExecuteTime": {
     "start_time": "2023-11-24T12:59:45.729047300Z"
    }
   },
   "id": "30ddab07e2bef22e"
  },
  {
   "cell_type": "code",
   "execution_count": null,
   "outputs": [],
   "source": [
    "# Пошаговый отбор признаков с использованием AIC\n",
    "new_model, selected_features = stepwise_selection(data, column=explore_column, criteria='AIC')"
   ],
   "metadata": {
    "collapsed": false,
    "ExecuteTime": {
     "start_time": "2023-11-24T12:59:45.729047300Z"
    }
   },
   "id": "5ea08be1cbe182a0"
  },
  {
   "cell_type": "markdown",
   "source": [
    "### Проведём исследование улучшенной модели"
   ],
   "metadata": {
    "collapsed": false
   },
   "id": "2802c06b61b33605"
  },
  {
   "cell_type": "code",
   "execution_count": null,
   "outputs": [],
   "source": [
    "enhanced_research = LinearRegressionResearch(data[selected_features + [explore_column]], column=explore_column)\n",
    "enhanced_research.info()\n",
    "enhanced_research.draw_plots()\n",
    "enhanced_research.run_tests()"
   ],
   "metadata": {
    "collapsed": false,
    "ExecuteTime": {
     "start_time": "2023-11-24T12:59:45.729047300Z"
    }
   },
   "id": "5d06f458d719f94a"
  },
  {
   "cell_type": "markdown",
   "source": [
    "### Попытаемся улучшить уже улучшенную модель при помощи (Box-Cox)"
   ],
   "metadata": {
    "collapsed": false
   },
   "id": "693bb46efab34458"
  },
  {
   "cell_type": "code",
   "execution_count": null,
   "outputs": [],
   "source": [
    "# Применяем преобразование Бокса-Кокса к зависимой переменной\n",
    "y_transformed, lambda_value = boxcox(data[explore_column] + 1)  # + 1 чтобы не было 0-значений\n",
    "new_explore_column = explore_column + '_t'\n",
    "data[new_explore_column] = y_transformed\n",
    "\n",
    "# Проводим анализ заново\n",
    "enhanced_research = LinearRegressionResearch(data[selected_features + [new_explore_column]],\n",
    "                                             column=new_explore_column)\n",
    "enhanced_research.info()\n",
    "enhanced_research.draw_plots()\n",
    "enhanced_research.run_tests()"
   ],
   "metadata": {
    "collapsed": false,
    "ExecuteTime": {
     "start_time": "2023-11-24T12:59:45.729047300Z"
    }
   },
   "id": "98c2305524abad88"
  }
 ],
 "metadata": {
  "kernelspec": {
   "display_name": "Python 3",
   "language": "python",
   "name": "python3"
  },
  "language_info": {
   "codemirror_mode": {
    "name": "ipython",
    "version": 2
   },
   "file_extension": ".py",
   "mimetype": "text/x-python",
   "name": "python",
   "nbconvert_exporter": "python",
   "pygments_lexer": "ipython2",
   "version": "2.7.6"
  }
 },
 "nbformat": 4,
 "nbformat_minor": 5
}
